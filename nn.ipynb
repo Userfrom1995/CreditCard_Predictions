{
 "cells": [
  {
   "cell_type": "code",
   "execution_count": null,
   "id": "initial_id",
   "metadata": {
    "collapsed": true
   },
   "outputs": [],
   "source": [
    "mport\n",
    "pandas as pd\n",
    "from sklearn.model_selection import train_test_split\n",
    "from sklearn.preprocessing import StandardScaler, OneHotEncoder\n",
    "from imblearn.over_sampling import SMOTE\n",
    "from tensorflow.keras.models import Sequential\n",
    "from tensorflow.keras.layers import Dense\n",
    "from tensorflow.keras.utils import to_categorical\n",
    "\n",
    "# Load the data\n",
    "file_path = 'Dev_data_to_be_shared.csv'  # Replace with your file path\n",
    "df = pd.read_csv(file_path)\n",
    "\n",
    "# Replace missing values with 0\n",
    "df.fillna(0, inplace=True)\n",
    "\n",
    "# Define features (X) and target (y)\n",
    "X = df.drop(['bad_flag', 'account_number'], axis=1)  # Drop target and ID columns\n",
    "y = df['bad_flag']\n",
    "# Balance the dataset using SMOTE\n",
    "smote = SMOTE(random_state=42)\n",
    "X_smote, y_smote = smote.fit_resample(X, y)\n",
    "print(1)\n",
    "\n",
    "# Divide target into 100 probability bins\n",
    "# y_smote_prob = (y_smote * 100).astype(int)  # Scale 0/1 into 0–100 bins\n",
    "\n",
    "# Encode target for neural network\n",
    "# y_smote_encoded = to_categorical(y_smote_prob, num_classes=101)\n",
    "print(2)\n",
    "\n",
    "# Split data into train and test sets\n",
    "X_train, X_test, y_train, y_test = train_test_split(X_smote, y_smote, test_size=0.2, random_state=42)\n",
    "y_train.shape\n",
    "\n",
    "# Standardize the input features\n",
    "scaler = StandardScaler()\n",
    "X_train_scaled = scaler.fit_transform(X_train)\n",
    "X_test_scaled = scaler.transform(X_test)\n",
    "\n",
    "# Build the neural network\n",
    "model = Sequential([\n",
    "    Dense(128, input_dim=X_train_scaled.shape[1], activation='relu'),  # Input layer\n",
    "    Dense(64, activation='relu'),  # Hidden layer\n",
    "\n",
    "    Dense(101, activation='softmax')  # Output layer (101 classes)\n",
    "])\n",
    "\n",
    "# Compile the model\n",
    "model.compile(optimizer='adam', loss='categorical_crossentropy', metrics=['accuracy'])\n",
    "\n",
    "# Train the model\n",
    "\n",
    "\n",
    "X_train_scaled.shape[1]\n",
    "model.fit(X_train_scaled, y_train, epochs=20, batch_size=32, validation_data=(X_test_scaled, y_test), verbose=1)\n",
    "\n",
    "# Evaluate the model\n",
    "\n",
    "test_loss, test_acc = model.evaluate(X_test_scaled, y_test)\n",
    "print(f\"Test Accuracy: {test_acc:.2f}\")\n",
    "\n",
    "# Save the trained model\n",
    "model.save('credit_default_model.h5')"
   ]
  },
  {
   "metadata": {
    "ExecuteTime": {
     "end_time": "2025-01-15T14:01:35.704716Z",
     "start_time": "2025-01-15T14:01:11.343458Z"
    }
   },
   "cell_type": "code",
   "source": [
    "import pandas as pd\n",
    "from sklearn.model_selection import train_test_split\n",
    "from sklearn.preprocessing import StandardScaler\n",
    "from imblearn.over_sampling import SMOTE\n",
    "from tensorflow.keras.models import Sequential\n",
    "from tensorflow.keras.layers import Dense\n",
    "from tensorflow.keras.utils import to_categorical\n",
    "from sklearn.metrics import confusion_matrix, classification_report, f1_score\n",
    "import joblib\n",
    "import matplotlib.pyplot as plt\n",
    "import seaborn as sns\n",
    "\n",
    "# Load the data\n",
    "file_path = 'Dev_data_to_be_shared.csv'  # Replace with your file path\n",
    "df = pd.read_csv(file_path)\n",
    "\n",
    "# Replace missing values with 0\n",
    "df.fillna(0, inplace=True)\n",
    "\n",
    "# Define features (X) and target (y)\n",
    "X = df.drop(['bad_flag', 'account_number'], axis=1)  # Drop target and ID columns\n",
    "y = df['bad_flag']  # Target variable\n",
    "\n",
    "# Split data into train and test sets (before applying SMOTE)\n",
    "X_train, X_test, y_train, y_test = train_test_split(X, y, test_size=0.2, random_state=42)\n",
    "\n",
    "# Apply SMOTE to balance the classes in the training data\n",
    "smote = SMOTE(random_state=42)\n",
    "X_train_smote, y_train_smote = smote.fit_resample(X_train, y_train)\n",
    "\n",
    "# Standardize the input features\n",
    "scaler = StandardScaler()\n",
    "X_train_scaled = scaler.fit_transform(X_train_smote)\n",
    "X_test_scaled = scaler.transform(X_test)  # Use the same scaler for the test data"
   ],
   "id": "ce7d6c375687a667",
   "outputs": [],
   "execution_count": 1
  },
  {
   "metadata": {
    "ExecuteTime": {
     "end_time": "2025-01-15T14:05:30.561580Z",
     "start_time": "2025-01-15T14:01:41.723929Z"
    }
   },
   "cell_type": "code",
   "source": [
    "\n",
    "# Build the neural network\n",
    "model = Sequential([\n",
    "    Dense(128, input_dim=X_train_scaled.shape[1], activation='relu'),  # Input layer\n",
    "    Dense(64, activation='relu'),  # Hidden layer\n",
    "    Dense(1, activation='sigmoid')  # Output layer (1 node for binary classification)\n",
    "])\n",
    "\n",
    "# Compile the model\n",
    "model.compile(optimizer='adam', loss='binary_crossentropy', metrics=['accuracy'])\n",
    "\n",
    "# Train the model\n",
    "model.fit(X_train_scaled, y_train_smote, epochs=20, batch_size=32, validation_data=(X_test_scaled, y_test), verbose=1)"
   ],
   "id": "eae0f2a17f886cdc",
   "outputs": [
    {
     "name": "stdout",
     "output_type": "stream",
     "text": [
      "Epoch 1/20\n",
      "4772/4772 [==============================] - 13s 2ms/step - loss: 0.1491 - accuracy: 0.9437 - val_loss: 0.1957 - val_accuracy: 0.9567\n",
      "Epoch 2/20\n",
      "4772/4772 [==============================] - 11s 2ms/step - loss: 0.0560 - accuracy: 0.9810 - val_loss: 0.2522 - val_accuracy: 0.9628\n",
      "Epoch 3/20\n",
      "4772/4772 [==============================] - 11s 2ms/step - loss: 0.0379 - accuracy: 0.9876 - val_loss: 0.2537 - val_accuracy: 0.9720\n",
      "Epoch 4/20\n",
      "4772/4772 [==============================] - 11s 2ms/step - loss: 0.0293 - accuracy: 0.9905 - val_loss: 0.2463 - val_accuracy: 0.9751\n",
      "Epoch 5/20\n",
      "4772/4772 [==============================] - 11s 2ms/step - loss: 0.0238 - accuracy: 0.9927 - val_loss: 0.2816 - val_accuracy: 0.9770\n",
      "Epoch 6/20\n",
      "4772/4772 [==============================] - 11s 2ms/step - loss: 0.0187 - accuracy: 0.9940 - val_loss: 0.2915 - val_accuracy: 0.9709\n",
      "Epoch 7/20\n",
      "4772/4772 [==============================] - 11s 2ms/step - loss: 0.0180 - accuracy: 0.9944 - val_loss: 0.3315 - val_accuracy: 0.9801\n",
      "Epoch 8/20\n",
      "4772/4772 [==============================] - 11s 2ms/step - loss: 0.0157 - accuracy: 0.9952 - val_loss: 0.3606 - val_accuracy: 0.9788\n",
      "Epoch 9/20\n",
      "4772/4772 [==============================] - 11s 2ms/step - loss: 0.0154 - accuracy: 0.9954 - val_loss: 0.3305 - val_accuracy: 0.9760\n",
      "Epoch 10/20\n",
      "4772/4772 [==============================] - 11s 2ms/step - loss: 0.0118 - accuracy: 0.9965 - val_loss: 0.3703 - val_accuracy: 0.9793\n",
      "Epoch 11/20\n",
      "4772/4772 [==============================] - 11s 2ms/step - loss: 0.0113 - accuracy: 0.9966 - val_loss: 0.3676 - val_accuracy: 0.9757\n",
      "Epoch 12/20\n",
      "4772/4772 [==============================] - 11s 2ms/step - loss: 0.0118 - accuracy: 0.9967 - val_loss: 0.3817 - val_accuracy: 0.9753\n",
      "Epoch 13/20\n",
      "4772/4772 [==============================] - 12s 3ms/step - loss: 0.0110 - accuracy: 0.9971 - val_loss: 0.4234 - val_accuracy: 0.9681\n",
      "Epoch 14/20\n",
      "4772/4772 [==============================] - 11s 2ms/step - loss: 0.0101 - accuracy: 0.9971 - val_loss: 0.4180 - val_accuracy: 0.9722\n",
      "Epoch 15/20\n",
      "4772/4772 [==============================] - 11s 2ms/step - loss: 0.0084 - accuracy: 0.9974 - val_loss: 0.4829 - val_accuracy: 0.9794\n",
      "Epoch 16/20\n",
      "4772/4772 [==============================] - 13s 3ms/step - loss: 0.0094 - accuracy: 0.9975 - val_loss: 0.4522 - val_accuracy: 0.9829\n",
      "Epoch 17/20\n",
      "4772/4772 [==============================] - 11s 2ms/step - loss: 0.0077 - accuracy: 0.9977 - val_loss: 0.4830 - val_accuracy: 0.9787\n",
      "Epoch 18/20\n",
      "4772/4772 [==============================] - 11s 2ms/step - loss: 0.0102 - accuracy: 0.9977 - val_loss: 0.3841 - val_accuracy: 0.9764\n",
      "Epoch 19/20\n",
      "4772/4772 [==============================] - 11s 2ms/step - loss: 0.0068 - accuracy: 0.9982 - val_loss: 0.4690 - val_accuracy: 0.9813\n",
      "Epoch 20/20\n",
      "4772/4772 [==============================] - 11s 2ms/step - loss: 0.0089 - accuracy: 0.9976 - val_loss: 0.4577 - val_accuracy: 0.9756\n"
     ]
    },
    {
     "data": {
      "text/plain": [
       "<keras.callbacks.History at 0x21610317520>"
      ]
     },
     "execution_count": 2,
     "metadata": {},
     "output_type": "execute_result"
    }
   ],
   "execution_count": 2
  },
  {
   "metadata": {
    "ExecuteTime": {
     "end_time": "2025-01-15T14:05:59.875358Z",
     "start_time": "2025-01-15T14:05:58.030085Z"
    }
   },
   "cell_type": "code",
   "source": [
    "\n",
    "# Evaluate the model on the test dataset\n",
    "y_pred_prob = model.predict(X_test_scaled)  # Get predicted probabilities\n",
    "y_pred = (y_pred_prob > 0.5).astype(int)  # Convert probabilities to binary predictions (0 or 1)"
   ],
   "id": "bdd9b5344876e503",
   "outputs": [
    {
     "name": "stdout",
     "output_type": "stream",
     "text": [
      "606/606 [==============================] - 1s 2ms/step\n"
     ]
    }
   ],
   "execution_count": 3
  },
  {
   "metadata": {
    "ExecuteTime": {
     "end_time": "2025-01-15T14:06:22.436026Z",
     "start_time": "2025-01-15T14:06:22.428046Z"
    }
   },
   "cell_type": "code",
   "source": "y_pred_prob",
   "id": "e86bf95281e74ccb",
   "outputs": [
    {
     "data": {
      "text/plain": [
       "array([[1.3945373e-20],\n",
       "       [2.9295552e-05],\n",
       "       [5.1819353e-04],\n",
       "       ...,\n",
       "       [5.4613442e-11],\n",
       "       [1.3406897e-19],\n",
       "       [2.3459909e-28]], dtype=float32)"
      ]
     },
     "execution_count": 4,
     "metadata": {},
     "output_type": "execute_result"
    }
   ],
   "execution_count": 4
  },
  {
   "metadata": {
    "ExecuteTime": {
     "end_time": "2025-01-15T14:06:49.623364Z",
     "start_time": "2025-01-15T14:06:49.611103Z"
    }
   },
   "cell_type": "code",
   "source": "y_pred",
   "id": "2f79ad62714b7405",
   "outputs": [
    {
     "data": {
      "text/plain": [
       "array([[0],\n",
       "       [0],\n",
       "       [0],\n",
       "       ...,\n",
       "       [0],\n",
       "       [0],\n",
       "       [0]])"
      ]
     },
     "execution_count": 5,
     "metadata": {},
     "output_type": "execute_result"
    }
   ],
   "execution_count": 5
  },
  {
   "metadata": {
    "ExecuteTime": {
     "end_time": "2025-01-15T14:07:04.136992Z",
     "start_time": "2025-01-15T14:07:03.308493Z"
    }
   },
   "cell_type": "code",
   "source": [
    "\n",
    "# Confusion Matrix\n",
    "cm = confusion_matrix(y_test, y_pred)\n",
    "disp = sns.heatmap(cm, annot=True, fmt='d', cmap='Blues', xticklabels=['No Default', 'Default'], yticklabels=['No Default', 'Default'])\n",
    "plt.title('Confusion Matrix')\n",
    "plt.ylabel('Actual')\n",
    "plt.xlabel('Predicted')\n",
    "plt.show()\n",
    "\n",
    "# Classification Report and F1 Score\n",
    "print(\"Classification Report:\")\n",
    "print(classification_report(y_test, y_pred))\n",
    "print(f\"F1 Score: {f1_score(y_test, y_pred)}\")\n",
    "\n",
    "# Save the model and scaler\n",
    "joblib.dump(model, \"credit_risk_model.h5\")  # Save the trained model\n",
    "joblib.dump(scaler, \"scaler_model.joblib\")  # Save the scaler used for scaling the features\n",
    "print(\"Model and scaler saved.\")\n",
    "\n",
    "# Optional: Save the predictions for submission\n",
    "predictions = pd.DataFrame({\n",
    "    'account_number': df.loc[y_test.index, 'account_number'],  # Account numbers for the test set\n",
    "    'predicted_probability': y_pred_prob.flatten()  # Flatten to get the probability for submission\n",
    "})\n",
    "predictions.to_csv('credit_risk_predictions.csv', index=False)\n",
    "print(\"Predictions saved to 'credit_risk_predictions.csv'\")\n"
   ],
   "id": "14f6d6d6679ccf4e",
   "outputs": [
    {
     "data": {
      "text/plain": [
       "<Figure size 640x480 with 2 Axes>"
      ],
      "image/png": "[encoded data removed]"
     },
     "metadata": {},
     "output_type": "display_data"
    },
    {
     "name": "stdout",
     "output_type": "stream",
     "text": [
      "Classification Report:\n",
      "              precision    recall  f1-score   support\n",
      "\n",
      "           0       0.99      0.99      0.99     19092\n",
      "           1       0.07      0.06      0.07       270\n",
      "\n",
      "    accuracy                           0.98     19362\n",
      "   macro avg       0.53      0.53      0.53     19362\n",
      "weighted avg       0.97      0.98      0.97     19362\n",
      "\n",
      "F1 Score: 0.0670611439842209\n",
      "INFO:tensorflow:Assets written to: ram://3e9d9779-d4e5-4702-bada-68d09798bc51/assets\n",
      "Model and scaler saved.\n",
      "Predictions saved to 'credit_risk_predictions.csv'\n"
     ]
    }
   ],
   "execution_count": 6
  },
  {
   "metadata": {
    "ExecuteTime": {
     "end_time": "2025-01-15T14:16:15.154330Z",
     "start_time": "2025-01-15T14:15:48.150726Z"
    }
   },
   "cell_type": "code",
   "source": [
    "import pandas as pd\n",
    "from sklearn.model_selection import train_test_split\n",
    "from sklearn.preprocessing import StandardScaler\n",
    "from imblearn.over_sampling import SMOTE\n",
    "from tensorflow.keras.models import Sequential\n",
    "from tensorflow.keras.layers import Dense\n",
    "from sklearn.metrics import confusion_matrix, classification_report, f1_score\n",
    "import numpy as np\n",
    "import matplotlib.pyplot as plt\n",
    "import seaborn as sns\n",
    "\n",
    "# Load the data\n",
    "file_path = 'Dev_data_to_be_shared.csv'  # Replace with your file path\n",
    "df = pd.read_csv(file_path)\n",
    "\n",
    "# Replace missing values with 0\n",
    "df.fillna(0, inplace=True)\n",
    "\n",
    "# Define features (X) and target (y)\n",
    "X = df.drop(['bad_flag', 'account_number'], axis=1)  # Drop target and ID columns\n",
    "y = df['bad_flag']  # Target variable\n",
    "\n",
    "# Split data into train and test sets (before applying SMOTE)\n",
    "X_train, X_test, y_train, y_test = train_test_split(X, y, test_size=0.2, random_state=42)\n",
    "\n",
    "# Apply SMOTE to balance the classes in the training data\n",
    "smote = SMOTE(random_state=42)\n",
    "X_train_smote, y_train_smote = smote.fit_resample(X_train, y_train)\n",
    "\n",
    "# Standardize the input features\n",
    "scaler = StandardScaler()\n",
    "X_train_scaled = scaler.fit_transform(X_train_smote)\n",
    "X_test_scaled = scaler.transform(X_test)  # Use the same scaler for the test data\n",
    "\n",
    "# Build the neural network\n",
    "model = Sequential([\n",
    "    Dense(128, input_dim=X_train_scaled.shape[1], activation='relu'),  # Input layer\n",
    "    Dense(64, activation='relu'),  # Hidden layer\n",
    "    Dense(1, activation='sigmoid')  # Output layer (1 node for binary classification)\n",
    "])"
   ],
   "id": "5256e3be46e7ee15",
   "outputs": [],
   "execution_count": 7
  },
  {
   "metadata": {
    "ExecuteTime": {
     "end_time": "2025-01-15T14:20:47.818627Z",
     "start_time": "2025-01-15T14:16:58.729425Z"
    }
   },
   "cell_type": "code",
   "source": [
    "\n",
    "# Compile the model\n",
    "model.compile(optimizer='adam', loss='binary_crossentropy', metrics=['accuracy'])\n",
    "\n",
    "# Train the model\n",
    "model.fit(X_train_scaled, y_train_smote, epochs=20, batch_size=32, validation_data=(X_test_scaled, y_test), verbose=1)"
   ],
   "id": "18c8ebf6700162ad",
   "outputs": [
    {
     "name": "stdout",
     "output_type": "stream",
     "text": [
      "Epoch 1/20\n",
      "4772/4772 [==============================] - 11s 2ms/step - loss: 0.1478 - accuracy: 0.9430 - val_loss: 0.1855 - val_accuracy: 0.9673\n",
      "Epoch 2/20\n",
      "4772/4772 [==============================] - 10s 2ms/step - loss: 0.0583 - accuracy: 0.9800 - val_loss: 0.2206 - val_accuracy: 0.9674\n",
      "Epoch 3/20\n",
      "4772/4772 [==============================] - 11s 2ms/step - loss: 0.0372 - accuracy: 0.9876 - val_loss: 0.2405 - val_accuracy: 0.9722\n",
      "Epoch 4/20\n",
      "4772/4772 [==============================] - 10s 2ms/step - loss: 0.0285 - accuracy: 0.9909 - val_loss: 0.2569 - val_accuracy: 0.9780\n",
      "Epoch 5/20\n",
      "4772/4772 [==============================] - 11s 2ms/step - loss: 0.0239 - accuracy: 0.9924 - val_loss: 0.2692 - val_accuracy: 0.9751\n",
      "Epoch 6/20\n",
      "4772/4772 [==============================] - 13s 3ms/step - loss: 0.0203 - accuracy: 0.9935 - val_loss: 0.2758 - val_accuracy: 0.9723\n",
      "Epoch 7/20\n",
      "4772/4772 [==============================] - 12s 2ms/step - loss: 0.0179 - accuracy: 0.9944 - val_loss: 0.2855 - val_accuracy: 0.9768\n",
      "Epoch 8/20\n",
      "4772/4772 [==============================] - 12s 3ms/step - loss: 0.0149 - accuracy: 0.9953 - val_loss: 0.3124 - val_accuracy: 0.9761\n",
      "Epoch 9/20\n",
      "4772/4772 [==============================] - 11s 2ms/step - loss: 0.0139 - accuracy: 0.9958 - val_loss: 0.3558 - val_accuracy: 0.9735\n",
      "Epoch 10/20\n",
      "4772/4772 [==============================] - 11s 2ms/step - loss: 0.0152 - accuracy: 0.9961 - val_loss: 0.3833 - val_accuracy: 0.9773\n",
      "Epoch 11/20\n",
      "4772/4772 [==============================] - 11s 2ms/step - loss: 0.0118 - accuracy: 0.9965 - val_loss: 0.4050 - val_accuracy: 0.9736\n",
      "Epoch 12/20\n",
      "4772/4772 [==============================] - 11s 2ms/step - loss: 0.0107 - accuracy: 0.9968 - val_loss: 0.4375 - val_accuracy: 0.9813\n",
      "Epoch 13/20\n",
      "4772/4772 [==============================] - 11s 2ms/step - loss: 0.0107 - accuracy: 0.9971 - val_loss: 0.4156 - val_accuracy: 0.9796\n",
      "Epoch 14/20\n",
      "4772/4772 [==============================] - 11s 2ms/step - loss: 0.0092 - accuracy: 0.9973 - val_loss: 0.4145 - val_accuracy: 0.9719\n",
      "Epoch 15/20\n",
      "4772/4772 [==============================] - 11s 2ms/step - loss: 0.0088 - accuracy: 0.9975 - val_loss: 0.4542 - val_accuracy: 0.9776\n",
      "Epoch 16/20\n",
      "4772/4772 [==============================] - 11s 2ms/step - loss: 0.0087 - accuracy: 0.9975 - val_loss: 0.4706 - val_accuracy: 0.9761\n",
      "Epoch 17/20\n",
      "4772/4772 [==============================] - 11s 2ms/step - loss: 0.0089 - accuracy: 0.9977 - val_loss: 0.4596 - val_accuracy: 0.9790\n",
      "Epoch 18/20\n",
      "4772/4772 [==============================] - 14s 3ms/step - loss: 0.0074 - accuracy: 0.9977 - val_loss: 0.5174 - val_accuracy: 0.9731\n",
      "Epoch 19/20\n",
      "4772/4772 [==============================] - 13s 3ms/step - loss: 0.0087 - accuracy: 0.9975 - val_loss: 0.4720 - val_accuracy: 0.9791\n",
      "Epoch 20/20\n",
      "4772/4772 [==============================] - 11s 2ms/step - loss: 0.0069 - accuracy: 0.9980 - val_loss: 0.5636 - val_accuracy: 0.9794\n"
     ]
    },
    {
     "data": {
      "text/plain": [
       "<keras.callbacks.History at 0x2164b434ac0>"
      ]
     },
     "execution_count": 8,
     "metadata": {},
     "output_type": "execute_result"
    }
   ],
   "execution_count": 8
  },
  {
   "metadata": {
    "ExecuteTime": {
     "end_time": "2025-01-15T14:22:05.965553Z",
     "start_time": "2025-01-15T14:22:04.758652Z"
    }
   },
   "cell_type": "code",
   "source": [
    "\n",
    "# Predict probabilities for the test set\n",
    "y_pred_prob = model.predict(X_test_scaled)  # Get predicted probabilities (continuous values between 0 and 1)\n",
    "\n",
    "# **Step 1: Round the probabilities to the nearest 0.01**\n",
    "y_pred_prob_rounded = np.round(y_pred_prob, 2)  # Round probabilities to 2 decimal places (nearest 0.01)\n",
    "\n",
    "# **Step 2: Convert to 1–100 Behavior Score**\n",
    "behavior_scores = (y_pred_prob_rounded * 100).astype(int)  # Scale probabilities to scores between 1 and 100"
   ],
   "id": "65e2540724c560d8",
   "outputs": [
    {
     "name": "stdout",
     "output_type": "stream",
     "text": [
      "606/606 [==============================] - 1s 1ms/step\n"
     ]
    }
   ],
   "execution_count": 9
  },
  {
   "metadata": {
    "ExecuteTime": {
     "end_time": "2025-01-15T14:22:23.669561Z",
     "start_time": "2025-01-15T14:22:23.655899Z"
    }
   },
   "cell_type": "code",
   "source": "y_pred_prob",
   "id": "27bd8c0e0acdca9b",
   "outputs": [
    {
     "data": {
      "text/plain": [
       "array([[6.1019353e-21],\n",
       "       [2.5633765e-06],\n",
       "       [6.3148815e-05],\n",
       "       ...,\n",
       "       [6.4440530e-18],\n",
       "       [1.8486092e-22],\n",
       "       [4.5050349e-30]], dtype=float32)"
      ]
     },
     "execution_count": 10,
     "metadata": {},
     "output_type": "execute_result"
    }
   ],
   "execution_count": 10
  },
  {
   "metadata": {
    "ExecuteTime": {
     "end_time": "2025-01-15T14:22:38.414159Z",
     "start_time": "2025-01-15T14:22:38.389589Z"
    }
   },
   "cell_type": "code",
   "source": "y_pred_prob_rounded",
   "id": "d9f3f1f98b0eb54b",
   "outputs": [
    {
     "data": {
      "text/plain": [
       "array([[0.],\n",
       "       [0.],\n",
       "       [0.],\n",
       "       ...,\n",
       "       [0.],\n",
       "       [0.],\n",
       "       [0.]], dtype=float32)"
      ]
     },
     "execution_count": 11,
     "metadata": {},
     "output_type": "execute_result"
    }
   ],
   "execution_count": 11
  },
  {
   "metadata": {
    "ExecuteTime": {
     "end_time": "2025-01-15T14:22:52.365736Z",
     "start_time": "2025-01-15T14:22:52.346804Z"
    }
   },
   "cell_type": "code",
   "source": "behavior_scores",
   "id": "42dec79547b8ca0a",
   "outputs": [
    {
     "data": {
      "text/plain": [
       "array([[0],\n",
       "       [0],\n",
       "       [0],\n",
       "       ...,\n",
       "       [0],\n",
       "       [0],\n",
       "       [0]])"
      ]
     },
     "execution_count": 12,
     "metadata": {},
     "output_type": "execute_result"
    }
   ],
   "execution_count": 12
  },
  {
   "metadata": {
    "ExecuteTime": {
     "end_time": "2025-01-15T14:23:12.383192Z",
     "start_time": "2025-01-15T14:23:12.366159Z"
    }
   },
   "cell_type": "code",
   "source": [
    "\n",
    "# Print sample probabilities and behavior scores\n",
    "print(\"Sample Probabilities:\", y_pred_prob_rounded[:10].flatten())\n",
    "print(\"Sample Behavior Scores:\", behavior_scores[:10].flatten())"
   ],
   "id": "1f15026ca1712f5c",
   "outputs": [
    {
     "name": "stdout",
     "output_type": "stream",
     "text": [
      "Sample Probabilities: [0. 0. 0. 0. 0. 0. 0. 0. 0. 0.]\n",
      "Sample Behavior Scores: [0 0 0 0 0 0 0 0 0 0]\n"
     ]
    }
   ],
   "execution_count": 13
  },
  {
   "metadata": {
    "ExecuteTime": {
     "end_time": "2025-01-15T14:23:14.744356Z",
     "start_time": "2025-01-15T14:23:14.734065Z"
    }
   },
   "cell_type": "code",
   "source": [
    "\n",
    "# Evaluate the model on the test dataset (using rounded probabilities)\n",
    "y_pred = (y_pred_prob_rounded > 0.5).astype(int)  # Convert probabilities to binary predictions (0 or 1)"
   ],
   "id": "738b0f55470285df",
   "outputs": [],
   "execution_count": 14
  },
  {
   "metadata": {
    "ExecuteTime": {
     "end_time": "2025-01-15T14:23:17.709065Z",
     "start_time": "2025-01-15T14:23:17.478763Z"
    }
   },
   "cell_type": "code",
   "source": [
    "\n",
    "# Confusion Matrix\n",
    "cm = confusion_matrix(y_test, y_pred)\n",
    "disp = sns.heatmap(cm, annot=True, fmt='d', cmap='Blues', xticklabels=['No Default', 'Default'], yticklabels=['No Default', 'Default'])\n",
    "plt.title('Confusion Matrix')\n",
    "plt.ylabel('Actual')\n",
    "plt.xlabel('Predicted')\n",
    "plt.show()\n",
    "\n",
    "# Classification Report and F1 Score\n",
    "print(\"Classification Report:\")\n",
    "print(classification_report(y_test, y_pred))\n",
    "print(f\"F1 Score: {f1_score(y_test, y_pred)}\")"
   ],
   "id": "43b5ed4f124b5821",
   "outputs": [
    {
     "data": {
      "text/plain": [
       "<Figure size 640x480 with 2 Axes>"
      ],
      "image/png": "[encoded data removed]"
     },
     "metadata": {},
     "output_type": "display_data"
    },
    {
     "name": "stdout",
     "output_type": "stream",
     "text": [
      "Classification Report:\n",
      "              precision    recall  f1-score   support\n",
      "\n",
      "           0       0.99      0.99      0.99     19092\n",
      "           1       0.07      0.04      0.05       270\n",
      "\n",
      "    accuracy                           0.98     19362\n",
      "   macro avg       0.53      0.51      0.52     19362\n",
      "weighted avg       0.97      0.98      0.98     19362\n",
      "\n",
      "F1 Score: 0.04784688995215311\n"
     ]
    }
   ],
   "execution_count": 15
  },
  {
   "metadata": {
    "ExecuteTime": {
     "end_time": "2025-01-15T14:23:30.517719Z",
     "start_time": "2025-01-15T14:23:30.463160Z"
    }
   },
   "cell_type": "code",
   "source": [
    "\n",
    "# Optional: Save the behavior scores for submission\n",
    "submission = pd.DataFrame({\n",
    "    'account_number': df.loc[y_test.index, 'account_number'],  # Account numbers for the test set\n",
    "    'predicted_probability': y_pred_prob_rounded.flatten(),  # Rounded probabilities\n",
    "    'behavior_score': behavior_scores.flatten()  # 1–100 behavior scores\n",
    "})\n",
    "submission.to_csv('credit_risk_behavior_scores.csv', index=False)\n",
    "print(\"Behavior scores saved to 'credit_risk_behavior_scores.csv'\")\n"
   ],
   "id": "d90d015c2122319d",
   "outputs": [
    {
     "name": "stdout",
     "output_type": "stream",
     "text": [
      "Behavior scores saved to 'credit_risk_behavior_scores.csv'\n"
     ]
    }
   ],
   "execution_count": 16
  }
 ],
 "metadata": {
  "kernelspec": {
   "display_name": "Python 3",
   "language": "python",
   "name": "python3"
  },
  "language_info": {
   "codemirror_mode": {
    "name": "ipython",
    "version": 2
   },
   "file_extension": ".py",
   "mimetype": "text/x-python",
   "name": "python",
   "nbconvert_exporter": "python",
   "pygments_lexer": "ipython2",
   "version": "2.7.6"
  }
 },
 "nbformat": 4,
 "nbformat_minor": 5
}
