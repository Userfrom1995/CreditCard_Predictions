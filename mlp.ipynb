{
 "cells": [
  {
   "metadata": {
    "ExecuteTime": {
     "end_time": "2025-01-15T09:07:04.842555Z",
     "start_time": "2025-01-15T09:06:54.074730Z"
    }
   },
   "cell_type": "code",
   "source": [
    "import pandas as pd\n",
    "from sklearn.model_selection import train_test_split\n",
    "from sklearn.preprocessing import StandardScaler\n",
    "from imblearn.combine import SMOTETomek\n",
    "\n",
    "# Step 1: Load the dataset\n",
    "# Replace 'your_dataset.csv' with the actual file path\n",
    "data = pd.read_csv(\"Dev_data_to_be_shared.csv\")\n",
    "\n",
    "# Step 2: Separate features (X) and target variable (y)\n",
    "# Replace 'bad_flag' with the name of your target column\n",
    "X = data.drop(columns=[\"bad_flag\",\"account_number\"])  # Features\n",
    "y = data[\"bad_flag\"] \n",
    "X.fillna(0, inplace=True)# Target variable\n",
    "\n",
    "# Step 3: Train-Test Split\n",
    "# Split the dataset into training (80%) and testing (20%) sets\n",
    "X_train, X_test, y_train, y_test = train_test_split(X, y, test_size=0.5, random_state=42)\n",
    "\n",
    "# Step 4: Apply SMOTE-Tomek to balance the classes in the training set\n",
    "# smt = SMOTETomek(random_state=42)\n",
    "# X_train_resampled, y_train_resampled = smt.fit_resample(X_train, y_train)\n",
    "\n",
    "# Step 5: Scale the features\n",
    "scaler = StandardScaler()\n",
    "X_train_original = scaler.fit_transform(X_train)  # Scale the resampled training data\n",
    "X_test_original = scaler.transform(X_test)\n",
    "X_original = scaler.transform(X)# Scale the test data\n",
    "\n",
    "# Print data shapes for verification\n",
    "print(f\"Original Training Set Shape (X_train): {X_train.shape}, (y_train): {y_train.shape}\")\n",
    "# print(f\"Resampled Training Set Shape (X_train_resampled): {X_train_resampled.shape}, (y_train_resampled): {y_train.shape}\")\n",
    "print(f\"Test Set Shape (X_test): {X_test.shape}, (y_test): {y_test.shape}\")\n",
    "\n"
   ],
   "id": "c825a6d9934a696c",
   "outputs": [
    {
     "name": "stdout",
     "output_type": "stream",
     "text": [
      "Original Training Set Shape (X_train): (48403, 1214), (y_train): (48403,)\n",
      "Test Set Shape (X_test): (48403, 1214), (y_test): (48403,)\n"
     ]
    }
   ],
   "execution_count": 1
  },
  {
   "metadata": {
    "ExecuteTime": {
     "end_time": "2025-01-15T09:07:08.698325Z",
     "start_time": "2025-01-15T09:07:08.107192Z"
    }
   },
   "cell_type": "code",
   "source": [
    "print(X_resampled_scaled.shape)\n",
    "print(y_resampled.shape)"
   ],
   "id": "c726facb1dd8d1f",
   "outputs": [
    {
     "ename": "NameError",
     "evalue": "name 'X_resampled_scaled' is not defined",
     "output_type": "error",
     "traceback": [
      "\u001B[1;31m---------------------------------------------------------------------------\u001B[0m",
      "\u001B[1;31mNameError\u001B[0m                                 Traceback (most recent call last)",
      "Cell \u001B[1;32mIn[2], line 1\u001B[0m\n\u001B[1;32m----> 1\u001B[0m \u001B[38;5;28mprint\u001B[39m(\u001B[43mX_resampled_scaled\u001B[49m\u001B[38;5;241m.\u001B[39mshape)\n\u001B[0;32m      2\u001B[0m \u001B[38;5;28mprint\u001B[39m(y_resampled\u001B[38;5;241m.\u001B[39mshape)\n",
      "\u001B[1;31mNameError\u001B[0m: name 'X_resampled_scaled' is not defined"
     ]
    }
   ],
   "execution_count": 2
  },
  {
   "cell_type": "code",
   "id": "initial_id",
   "metadata": {
    "collapsed": true,
    "jupyter": {
     "is_executing": true
    },
    "ExecuteTime": {
     "start_time": "2025-01-15T08:52:39.288184Z"
    }
   },
   "source": [
    "import joblib  # Library for saving and loading models\n",
    "import pandas as pd\n",
    "from sklearn.model_selection import GridSearchCV\n",
    "from sklearn.metrics import classification_report\n",
    "from sklearn.neural_network import MLPClassifier\n",
    "from imblearn.over_sampling import SMOTE\n",
    "from sklearn.preprocessing import StandardScaler\n",
    "import numpy as np\n",
    "\n",
    "# Resample using SMOTE\n",
    "smote = SMOTE(random_state=42)\n",
    "X_resampled, y_resampled = smote.fit_resample(X_train, y_train)\n",
    "\n",
    "# # Convert the dataset to float32 to reduce memory usage\n",
    "# X_resampled = X_resampled.astype(np.float32)\n",
    "# X_test = X_test.astype(np.float32)\n",
    "\n",
    "# Standardize features\n",
    "scaler = StandardScaler()\n",
    "X_resampled_scaled = scaler.fit_transform(X_resampled)\n",
    "X_test_scaled = scaler.transform(X_test)\n",
    "\n",
    "# Define parameter grid\n",
    "param_grid = {\n",
    "    'hidden_layer_sizes': [(128,), (256,), (512,), (256, 128), (512, 256)],\n",
    "    'activation': ['relu', 'tanh'],\n",
    "    'solver': ['adam', 'sgd'],\n",
    "    'alpha': [0.0001, 0.001, 0.01],\n",
    "    'learning_rate': ['constant', 'adaptive'],\n",
    "    'max_iter': [10],\n",
    "    'early_stopping': [True]\n",
    "}\n",
    "\n",
    "# Initialize MLPClassifier\n",
    "mlp = MLPClassifier(random_state=42)\n",
    "\n",
    "# Perform Grid Search\n",
    "grid_search = GridSearchCV(\n",
    "    estimator=mlp,\n",
    "    param_grid=param_grid,\n",
    "    scoring='f1',\n",
    "    cv=3,\n",
    "    verbose=1,\n",
    "    n_jobs=-1\n",
    ")\n",
    "\n",
    "# Fit Grid Search\n",
    "grid_search.fit(X_resampled_scaled, y_resampled)\n",
    "\n",
    "# Save all results\n",
    "results = pd.DataFrame(grid_search.cv_results_)\n",
    "results.to_csv('mlp_hyperparameter_tuning_results.csv', index=False)\n",
    "\n",
    "# Print total models tested and top 5 models\n",
    "print(f\"Total models tested: {len(results)}\")\n",
    "print(\"Top 5 models:\")\n",
    "print(results[['mean_test_score', 'std_test_score', 'params']].sort_values(by='mean_test_score', ascending=False).head())\n",
    "\n",
    "# Save the best model\n",
    "best_model = grid_search.best_estimator_\n",
    "joblib.dump(best_model, \"best_mlp_model.joblib\")\n",
    "print(\"Best model saved as 'best_mlp_model.joblib'\")\n",
    "\n",
    "# Evaluate the best model on the test set\n",
    "y_pred = best_model.predict(X_test_scaled)\n",
    "print(\"Classification Report:\")\n",
    "print(classification_report(y_test, y_pred))\n"
   ],
   "outputs": [],
   "execution_count": null
  }
 ],
 "metadata": {
  "kernelspec": {
   "display_name": "Python 3",
   "language": "python",
   "name": "python3"
  },
  "language_info": {
   "codemirror_mode": {
    "name": "ipython",
    "version": 2
   },
   "file_extension": ".py",
   "mimetype": "text/x-python",
   "name": "python",
   "nbconvert_exporter": "python",
   "pygments_lexer": "ipython2",
   "version": "2.7.6"
  }
 },
 "nbformat": 4,
 "nbformat_minor": 5
}
