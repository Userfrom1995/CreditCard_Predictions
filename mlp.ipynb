{
 "cells": [
  {
   "cell_type": "markdown",
   "source": [],
   "metadata": {
    "id": "wFCIy8HvRpun"
   },
   "id": "wFCIy8HvRpun"
  },
  {
   "cell_type": "code",
   "source": [
    "!wget https://github.com/Userfrom1995/CreditCard_Predictions/raw/main/validation_data_to_be_shared.zip"
   ],
   "metadata": {
    "id": "vn65gL8PRMjv",
    "outputId": "13903433-bf32-45cc-f3a1-da0056ae608a",
    "colab": {
     "base_uri": "https://localhost:8080/"
    }
   },
   "id": "vn65gL8PRMjv",
   "execution_count": 1,
   "outputs": [
    {
     "output_type": "stream",
     "name": "stdout",
     "text": [
      "--2025-01-15 10:50:31--  https://github.com/Userfrom1995/CreditCard_Predictions/raw/main/validation_data_to_be_shared.zip\n",
      "Resolving github.com (github.com)... 140.82.114.4\n",
      "Connecting to github.com (github.com)|140.82.114.4|:443... connected.\n",
      "HTTP request sent, awaiting response... 302 Found\n",
      "Location: https://raw.githubusercontent.com/Userfrom1995/CreditCard_Predictions/main/validation_data_to_be_shared.zip [following]\n",
      "--2025-01-15 10:50:31--  https://raw.githubusercontent.com/Userfrom1995/CreditCard_Predictions/main/validation_data_to_be_shared.zip\n",
      "Resolving raw.githubusercontent.com (raw.githubusercontent.com)... 185.199.108.133, 185.199.109.133, 185.199.110.133, ...\n",
      "Connecting to raw.githubusercontent.com (raw.githubusercontent.com)|185.199.108.133|:443... connected.\n",
      "HTTP request sent, awaiting response... 200 OK\n",
      "Length: 22086713 (21M) [application/zip]\n",
      "Saving to: ‘validation_data_to_be_shared.zip’\n",
      "\n",
      "validation_data_to_ 100%[===================>]  21.06M  --.-KB/s    in 0.1s    \n",
      "\n",
      "2025-01-15 10:50:32 (150 MB/s) - ‘validation_data_to_be_shared.zip’ saved [22086713/22086713]\n",
      "\n"
     ]
    }
   ]
  },
  {
   "cell_type": "code",
   "source": [
    "!wget https://github.com/Userfrom1995/CreditCard_Predictions/raw/main/Dev_data_to_be_shared.zip"
   ],
   "metadata": {
    "id": "q-VfHisCRMaf",
    "outputId": "358be472-c8eb-419d-c591-cbdf90d23bda",
    "colab": {
     "base_uri": "https://localhost:8080/"
    }
   },
   "id": "q-VfHisCRMaf",
   "execution_count": 2,
   "outputs": [
    {
     "output_type": "stream",
     "name": "stdout",
     "text": [
      "--2025-01-15 10:50:33--  https://github.com/Userfrom1995/CreditCard_Predictions/raw/main/Dev_data_to_be_shared.zip\n",
      "Resolving github.com (github.com)... 140.82.114.3\n",
      "Connecting to github.com (github.com)|140.82.114.3|:443... connected.\n",
      "HTTP request sent, awaiting response... 302 Found\n",
      "Location: https://raw.githubusercontent.com/Userfrom1995/CreditCard_Predictions/main/Dev_data_to_be_shared.zip [following]\n",
      "--2025-01-15 10:50:33--  https://raw.githubusercontent.com/Userfrom1995/CreditCard_Predictions/main/Dev_data_to_be_shared.zip\n",
      "Resolving raw.githubusercontent.com (raw.githubusercontent.com)... 185.199.111.133, 185.199.109.133, 185.199.108.133, ...\n",
      "Connecting to raw.githubusercontent.com (raw.githubusercontent.com)|185.199.111.133|:443... connected.\n",
      "HTTP request sent, awaiting response... 200 OK\n",
      "Length: 51165748 (49M) [application/zip]\n",
      "Saving to: ‘Dev_data_to_be_shared.zip’\n",
      "\n",
      "Dev_data_to_be_shar 100%[===================>]  48.79M   212MB/s    in 0.2s    \n",
      "\n",
      "2025-01-15 10:50:34 (212 MB/s) - ‘Dev_data_to_be_shared.zip’ saved [51165748/51165748]\n",
      "\n"
     ]
    }
   ]
  },
  {
   "cell_type": "code",
   "source": [
    "!unzip Dev_data_to_be_shared.zip\n",
    "!unzip validation_data_to_be_shared.zip"
   ],
   "metadata": {
    "id": "73smKHMvRMPE",
    "outputId": "323a20e5-20e3-4c2f-e835-6b768410b21c",
    "colab": {
     "base_uri": "https://localhost:8080/"
    }
   },
   "id": "73smKHMvRMPE",
   "execution_count": 3,
   "outputs": [
    {
     "output_type": "stream",
     "name": "stdout",
     "text": [
      "Archive:  Dev_data_to_be_shared.zip\n",
      "  inflating: Dev_data_to_be_shared.csv  \n",
      "Archive:  validation_data_to_be_shared.zip\n",
      "  inflating: validation_data_to_be_shared.csv  \n"
     ]
    }
   ]
  },
  {
   "cell_type": "code",
   "source": [
    "import os\n",
    "\n",
    "# Check number of CPU cores\n",
    "cpu_cores = os.cpu_count()\n",
    "print(f\"Number of CPU cores available: {cpu_cores}\")\n"
   ],
   "metadata": {
    "id": "4eyhYg23RL-u",
    "outputId": "1cf55a1c-b997-498e-b89c-583b61e3c427",
    "colab": {
     "base_uri": "https://localhost:8080/"
    },
    "ExecuteTime": {
     "end_time": "2025-01-15T11:24:02.473763Z",
     "start_time": "2025-01-15T11:24:02.459681Z"
    }
   },
   "id": "4eyhYg23RL-u",
   "outputs": [
    {
     "name": "stdout",
     "output_type": "stream",
     "text": [
      "Number of CPU cores available: 24\n"
     ]
    }
   ],
   "execution_count": 4
  },
  {
   "cell_type": "code",
   "source": [
    "!pip install py-cpuinfo\n"
   ],
   "metadata": {
    "id": "G0proBaLSLT1",
    "outputId": "d4832670-8cc6-4e2e-9224-62909663a6eb",
    "colab": {
     "base_uri": "https://localhost:8080/"
    },
    "ExecuteTime": {
     "end_time": "2025-01-15T11:24:13.071192Z",
     "start_time": "2025-01-15T11:24:07.474676Z"
    }
   },
   "id": "G0proBaLSLT1",
   "outputs": [
    {
     "name": "stdout",
     "output_type": "stream",
     "text": [
      "Collecting py-cpuinfo\n",
      "  Downloading py_cpuinfo-9.0.0-py3-none-any.whl.metadata (794 bytes)\n",
      "Downloading py_cpuinfo-9.0.0-py3-none-any.whl (22 kB)\n",
      "Installing collected packages: py-cpuinfo\n",
      "Successfully installed py-cpuinfo-9.0.0\n"
     ]
    }
   ],
   "execution_count": 5
  },
  {
   "cell_type": "code",
   "source": [
    "import platform\n",
    "\n",
    "# Get processor information\n",
    "cpu_info = platform.processor()\n",
    "print(f\"Processor: {cpu_info}\")\n"
   ],
   "metadata": {
    "id": "5E9NtHySSOa1",
    "outputId": "ebc30dc5-e8a6-409d-dce1-cea04b41f193",
    "colab": {
     "base_uri": "https://localhost:8080/"
    },
    "ExecuteTime": {
     "end_time": "2025-01-15T11:24:15.250324Z",
     "start_time": "2025-01-15T11:24:15.239277Z"
    }
   },
   "id": "5E9NtHySSOa1",
   "outputs": [
    {
     "name": "stdout",
     "output_type": "stream",
     "text": [
      "Processor: Intel64 Family 6 Model 191 Stepping 2, GenuineIntel\n"
     ]
    }
   ],
   "execution_count": 6
  },
  {
   "cell_type": "code",
   "source": [
    "import cpuinfo\n",
    "\n",
    "# Get CPU information\n",
    "cpu_info = cpuinfo.get_cpu_info()\n",
    "print(f\"CPU Brand: {cpu_info['brand_raw']}\")\n",
    "print(f\"Architecture: {cpu_info['arch']}\")\n"
   ],
   "metadata": {
    "id": "nZAD8f1qSRyP",
    "outputId": "4a2b722a-4ab4-4b4a-b797-6a917c4ffb2d",
    "colab": {
     "base_uri": "https://localhost:8080/"
    },
    "ExecuteTime": {
     "end_time": "2025-01-15T11:24:22.719384Z",
     "start_time": "2025-01-15T11:24:20.615527Z"
    }
   },
   "id": "nZAD8f1qSRyP",
   "outputs": [
    {
     "name": "stdout",
     "output_type": "stream",
     "text": [
      "CPU Brand: 13th Gen Intel(R) Core(TM) i7-13700HX\n",
      "Architecture: X86_64\n"
     ]
    }
   ],
   "execution_count": 7
  },
  {
   "metadata": {
    "id": "c825a6d9934a696c",
    "outputId": "457d8007-e7c2-480e-9968-fd37207059c0",
    "colab": {
     "base_uri": "https://localhost:8080/"
    },
    "ExecuteTime": {
     "end_time": "2025-01-15T15:55:04.600288Z",
     "start_time": "2025-01-15T15:54:47.412998Z"
    }
   },
   "cell_type": "code",
   "source": [
    "import pandas as pd\n",
    "from sklearn.model_selection import train_test_split\n",
    "from sklearn.preprocessing import StandardScaler\n",
    "# from imblearn.combine import SMOTETomek\n",
    "\n",
    "# Step 1: Load the dataset\n",
    "# Replace 'your_dataset.csv' with the actual file path\n",
    "data = pd.read_csv(\"Dev_data_to_be_shared.csv\")\n",
    "\n",
    "# Step 2: Separate features (X) and target variable (y)\n",
    "# Replace 'bad_flag' with the name of your target column\n",
    "X = data.drop(columns=[\"bad_flag\",\"account_number\"])  # Features\n",
    "y = data[\"bad_flag\"]\n",
    "X.fillna(0, inplace=True)# Target variable\n",
    "\n",
    "# Step 3: Train-Test Split\n",
    "# Split the dataset into training (80%) and testing (20%) sets\n",
    "X_train, X_test, y_train, y_test = train_test_split(X, y, test_size=0.2, random_state=42)\n",
    "\n",
    "# Step 4: Apply SMOTE-Tomek to balance the classes in the training set\n",
    "# smt = SMOTETomek(random_state=42)\n",
    "# X_train_resampled, y_train_resampled = smt.fit_resample(X_train, y_train)\n",
    "\n",
    "# Step 5: Scale the features\n",
    "scaler = StandardScaler()\n",
    "X_train_original = scaler.fit_transform(X_train)  # Scale the resampled training data\n",
    "X_test_original = scaler.transform(X_test)\n",
    "X_original = scaler.transform(X)# Scale the test data\n",
    "\n",
    "# Print data shapes for verification\n",
    "print(f\"Original Training Set Shape (X_train): {X_train.shape}, (y_train): {y_train.shape}\")\n",
    "# print(f\"Resampled Training Set Shape (X_train_resampled): {X_train_resampled.shape}, (y_train_resampled): {y_train.shape}\")\n",
    "print(f\"Test Set Shape (X_test): {X_test.shape}, (y_test): {y_test.shape}\")\n",
    "\n"
   ],
   "id": "c825a6d9934a696c",
   "outputs": [
    {
     "ename": "MemoryError",
     "evalue": "Unable to allocate 878. MiB for an array with shape (1189, 96806) and data type float64",
     "output_type": "error",
     "traceback": [
      "\u001B[1;31m---------------------------------------------------------------------------\u001B[0m",
      "\u001B[1;31mMemoryError\u001B[0m                               Traceback (most recent call last)",
      "Cell \u001B[1;32mIn[54], line 8\u001B[0m\n\u001B[0;32m      3\u001B[0m \u001B[38;5;28;01mfrom\u001B[39;00m \u001B[38;5;21;01msklearn\u001B[39;00m\u001B[38;5;21;01m.\u001B[39;00m\u001B[38;5;21;01mpreprocessing\u001B[39;00m \u001B[38;5;28;01mimport\u001B[39;00m StandardScaler\n\u001B[0;32m      4\u001B[0m \u001B[38;5;66;03m# from imblearn.combine import SMOTETomek\u001B[39;00m\n\u001B[0;32m      5\u001B[0m \n\u001B[0;32m      6\u001B[0m \u001B[38;5;66;03m# Step 1: Load the dataset\u001B[39;00m\n\u001B[0;32m      7\u001B[0m \u001B[38;5;66;03m# Replace 'your_dataset.csv' with the actual file path\u001B[39;00m\n\u001B[1;32m----> 8\u001B[0m data \u001B[38;5;241m=\u001B[39m \u001B[43mpd\u001B[49m\u001B[38;5;241;43m.\u001B[39;49m\u001B[43mread_csv\u001B[49m\u001B[43m(\u001B[49m\u001B[38;5;124;43m\"\u001B[39;49m\u001B[38;5;124;43mDev_data_to_be_shared.csv\u001B[39;49m\u001B[38;5;124;43m\"\u001B[39;49m\u001B[43m)\u001B[49m\n\u001B[0;32m     10\u001B[0m \u001B[38;5;66;03m# Step 2: Separate features (X) and target variable (y)\u001B[39;00m\n\u001B[0;32m     11\u001B[0m \u001B[38;5;66;03m# Replace 'bad_flag' with the name of your target column\u001B[39;00m\n\u001B[0;32m     12\u001B[0m X \u001B[38;5;241m=\u001B[39m data\u001B[38;5;241m.\u001B[39mdrop(columns\u001B[38;5;241m=\u001B[39m[\u001B[38;5;124m\"\u001B[39m\u001B[38;5;124mbad_flag\u001B[39m\u001B[38;5;124m\"\u001B[39m,\u001B[38;5;124m\"\u001B[39m\u001B[38;5;124maccount_number\u001B[39m\u001B[38;5;124m\"\u001B[39m])  \u001B[38;5;66;03m# Features\u001B[39;00m\n",
      "File \u001B[1;32m~\\miniconda3\\envs\\tf\\lib\\site-packages\\pandas\\io\\parsers\\readers.py:1024\u001B[0m, in \u001B[0;36mread_csv\u001B[1;34m(filepath_or_buffer, sep, delimiter, header, names, index_col, usecols, dtype, engine, converters, true_values, false_values, skipinitialspace, skiprows, skipfooter, nrows, na_values, keep_default_na, na_filter, verbose, skip_blank_lines, parse_dates, infer_datetime_format, keep_date_col, date_parser, date_format, dayfirst, cache_dates, iterator, chunksize, compression, thousands, decimal, lineterminator, quotechar, quoting, doublequote, escapechar, comment, encoding, encoding_errors, dialect, on_bad_lines, delim_whitespace, low_memory, memory_map, float_precision, storage_options, dtype_backend)\u001B[0m\n\u001B[0;32m   1011\u001B[0m kwds_defaults \u001B[38;5;241m=\u001B[39m _refine_defaults_read(\n\u001B[0;32m   1012\u001B[0m     dialect,\n\u001B[0;32m   1013\u001B[0m     delimiter,\n\u001B[1;32m   (...)\u001B[0m\n\u001B[0;32m   1020\u001B[0m     dtype_backend\u001B[38;5;241m=\u001B[39mdtype_backend,\n\u001B[0;32m   1021\u001B[0m )\n\u001B[0;32m   1022\u001B[0m kwds\u001B[38;5;241m.\u001B[39mupdate(kwds_defaults)\n\u001B[1;32m-> 1024\u001B[0m \u001B[38;5;28;01mreturn\u001B[39;00m \u001B[43m_read\u001B[49m\u001B[43m(\u001B[49m\u001B[43mfilepath_or_buffer\u001B[49m\u001B[43m,\u001B[49m\u001B[43m \u001B[49m\u001B[43mkwds\u001B[49m\u001B[43m)\u001B[49m\n",
      "File \u001B[1;32m~\\miniconda3\\envs\\tf\\lib\\site-packages\\pandas\\io\\parsers\\readers.py:624\u001B[0m, in \u001B[0;36m_read\u001B[1;34m(filepath_or_buffer, kwds)\u001B[0m\n\u001B[0;32m    621\u001B[0m     \u001B[38;5;28;01mreturn\u001B[39;00m parser\n\u001B[0;32m    623\u001B[0m \u001B[38;5;28;01mwith\u001B[39;00m parser:\n\u001B[1;32m--> 624\u001B[0m     \u001B[38;5;28;01mreturn\u001B[39;00m \u001B[43mparser\u001B[49m\u001B[38;5;241;43m.\u001B[39;49m\u001B[43mread\u001B[49m\u001B[43m(\u001B[49m\u001B[43mnrows\u001B[49m\u001B[43m)\u001B[49m\n",
      "File \u001B[1;32m~\\miniconda3\\envs\\tf\\lib\\site-packages\\pandas\\io\\parsers\\readers.py:1966\u001B[0m, in \u001B[0;36mTextFileReader.read\u001B[1;34m(self, nrows)\u001B[0m\n\u001B[0;32m   1963\u001B[0m     \u001B[38;5;28;01melse\u001B[39;00m:\n\u001B[0;32m   1964\u001B[0m         new_col_dict \u001B[38;5;241m=\u001B[39m col_dict\n\u001B[1;32m-> 1966\u001B[0m     df \u001B[38;5;241m=\u001B[39m \u001B[43mDataFrame\u001B[49m\u001B[43m(\u001B[49m\n\u001B[0;32m   1967\u001B[0m \u001B[43m        \u001B[49m\u001B[43mnew_col_dict\u001B[49m\u001B[43m,\u001B[49m\n\u001B[0;32m   1968\u001B[0m \u001B[43m        \u001B[49m\u001B[43mcolumns\u001B[49m\u001B[38;5;241;43m=\u001B[39;49m\u001B[43mcolumns\u001B[49m\u001B[43m,\u001B[49m\n\u001B[0;32m   1969\u001B[0m \u001B[43m        \u001B[49m\u001B[43mindex\u001B[49m\u001B[38;5;241;43m=\u001B[39;49m\u001B[43mindex\u001B[49m\u001B[43m,\u001B[49m\n\u001B[0;32m   1970\u001B[0m \u001B[43m        \u001B[49m\u001B[43mcopy\u001B[49m\u001B[38;5;241;43m=\u001B[39;49m\u001B[38;5;129;43;01mnot\u001B[39;49;00m\u001B[43m \u001B[49m\u001B[43musing_copy_on_write\u001B[49m\u001B[43m(\u001B[49m\u001B[43m)\u001B[49m\u001B[43m,\u001B[49m\n\u001B[0;32m   1971\u001B[0m \u001B[43m    \u001B[49m\u001B[43m)\u001B[49m\n\u001B[0;32m   1973\u001B[0m     \u001B[38;5;28mself\u001B[39m\u001B[38;5;241m.\u001B[39m_currow \u001B[38;5;241m+\u001B[39m\u001B[38;5;241m=\u001B[39m new_rows\n\u001B[0;32m   1974\u001B[0m \u001B[38;5;28;01mreturn\u001B[39;00m df\n",
      "File \u001B[1;32m~\\miniconda3\\envs\\tf\\lib\\site-packages\\pandas\\core\\frame.py:767\u001B[0m, in \u001B[0;36mDataFrame.__init__\u001B[1;34m(self, data, index, columns, dtype, copy)\u001B[0m\n\u001B[0;32m    761\u001B[0m     mgr \u001B[38;5;241m=\u001B[39m \u001B[38;5;28mself\u001B[39m\u001B[38;5;241m.\u001B[39m_init_mgr(\n\u001B[0;32m    762\u001B[0m         data, axes\u001B[38;5;241m=\u001B[39m{\u001B[38;5;124m\"\u001B[39m\u001B[38;5;124mindex\u001B[39m\u001B[38;5;124m\"\u001B[39m: index, \u001B[38;5;124m\"\u001B[39m\u001B[38;5;124mcolumns\u001B[39m\u001B[38;5;124m\"\u001B[39m: columns}, dtype\u001B[38;5;241m=\u001B[39mdtype, copy\u001B[38;5;241m=\u001B[39mcopy\n\u001B[0;32m    763\u001B[0m     )\n\u001B[0;32m    765\u001B[0m \u001B[38;5;28;01melif\u001B[39;00m \u001B[38;5;28misinstance\u001B[39m(data, \u001B[38;5;28mdict\u001B[39m):\n\u001B[0;32m    766\u001B[0m     \u001B[38;5;66;03m# GH#38939 de facto copy defaults to False only in non-dict cases\u001B[39;00m\n\u001B[1;32m--> 767\u001B[0m     mgr \u001B[38;5;241m=\u001B[39m \u001B[43mdict_to_mgr\u001B[49m\u001B[43m(\u001B[49m\u001B[43mdata\u001B[49m\u001B[43m,\u001B[49m\u001B[43m \u001B[49m\u001B[43mindex\u001B[49m\u001B[43m,\u001B[49m\u001B[43m \u001B[49m\u001B[43mcolumns\u001B[49m\u001B[43m,\u001B[49m\u001B[43m \u001B[49m\u001B[43mdtype\u001B[49m\u001B[38;5;241;43m=\u001B[39;49m\u001B[43mdtype\u001B[49m\u001B[43m,\u001B[49m\u001B[43m \u001B[49m\u001B[43mcopy\u001B[49m\u001B[38;5;241;43m=\u001B[39;49m\u001B[43mcopy\u001B[49m\u001B[43m,\u001B[49m\u001B[43m \u001B[49m\u001B[43mtyp\u001B[49m\u001B[38;5;241;43m=\u001B[39;49m\u001B[43mmanager\u001B[49m\u001B[43m)\u001B[49m\n\u001B[0;32m    768\u001B[0m \u001B[38;5;28;01melif\u001B[39;00m \u001B[38;5;28misinstance\u001B[39m(data, ma\u001B[38;5;241m.\u001B[39mMaskedArray):\n\u001B[0;32m    769\u001B[0m     \u001B[38;5;28;01mfrom\u001B[39;00m \u001B[38;5;21;01mnumpy\u001B[39;00m\u001B[38;5;21;01m.\u001B[39;00m\u001B[38;5;21;01mma\u001B[39;00m \u001B[38;5;28;01mimport\u001B[39;00m mrecords\n",
      "File \u001B[1;32m~\\miniconda3\\envs\\tf\\lib\\site-packages\\pandas\\core\\internals\\construction.py:503\u001B[0m, in \u001B[0;36mdict_to_mgr\u001B[1;34m(data, index, columns, dtype, typ, copy)\u001B[0m\n\u001B[0;32m    499\u001B[0m     \u001B[38;5;28;01melse\u001B[39;00m:\n\u001B[0;32m    500\u001B[0m         \u001B[38;5;66;03m# dtype check to exclude e.g. range objects, scalars\u001B[39;00m\n\u001B[0;32m    501\u001B[0m         arrays \u001B[38;5;241m=\u001B[39m [x\u001B[38;5;241m.\u001B[39mcopy() \u001B[38;5;28;01mif\u001B[39;00m \u001B[38;5;28mhasattr\u001B[39m(x, \u001B[38;5;124m\"\u001B[39m\u001B[38;5;124mdtype\u001B[39m\u001B[38;5;124m\"\u001B[39m) \u001B[38;5;28;01melse\u001B[39;00m x \u001B[38;5;28;01mfor\u001B[39;00m x \u001B[38;5;129;01min\u001B[39;00m arrays]\n\u001B[1;32m--> 503\u001B[0m \u001B[38;5;28;01mreturn\u001B[39;00m \u001B[43marrays_to_mgr\u001B[49m\u001B[43m(\u001B[49m\u001B[43marrays\u001B[49m\u001B[43m,\u001B[49m\u001B[43m \u001B[49m\u001B[43mcolumns\u001B[49m\u001B[43m,\u001B[49m\u001B[43m \u001B[49m\u001B[43mindex\u001B[49m\u001B[43m,\u001B[49m\u001B[43m \u001B[49m\u001B[43mdtype\u001B[49m\u001B[38;5;241;43m=\u001B[39;49m\u001B[43mdtype\u001B[49m\u001B[43m,\u001B[49m\u001B[43m \u001B[49m\u001B[43mtyp\u001B[49m\u001B[38;5;241;43m=\u001B[39;49m\u001B[43mtyp\u001B[49m\u001B[43m,\u001B[49m\u001B[43m \u001B[49m\u001B[43mconsolidate\u001B[49m\u001B[38;5;241;43m=\u001B[39;49m\u001B[43mcopy\u001B[49m\u001B[43m)\u001B[49m\n",
      "File \u001B[1;32m~\\miniconda3\\envs\\tf\\lib\\site-packages\\pandas\\core\\internals\\construction.py:152\u001B[0m, in \u001B[0;36marrays_to_mgr\u001B[1;34m(arrays, columns, index, dtype, verify_integrity, typ, consolidate)\u001B[0m\n\u001B[0;32m    149\u001B[0m axes \u001B[38;5;241m=\u001B[39m [columns, index]\n\u001B[0;32m    151\u001B[0m \u001B[38;5;28;01mif\u001B[39;00m typ \u001B[38;5;241m==\u001B[39m \u001B[38;5;124m\"\u001B[39m\u001B[38;5;124mblock\u001B[39m\u001B[38;5;124m\"\u001B[39m:\n\u001B[1;32m--> 152\u001B[0m     \u001B[38;5;28;01mreturn\u001B[39;00m \u001B[43mcreate_block_manager_from_column_arrays\u001B[49m\u001B[43m(\u001B[49m\n\u001B[0;32m    153\u001B[0m \u001B[43m        \u001B[49m\u001B[43marrays\u001B[49m\u001B[43m,\u001B[49m\u001B[43m \u001B[49m\u001B[43maxes\u001B[49m\u001B[43m,\u001B[49m\u001B[43m \u001B[49m\u001B[43mconsolidate\u001B[49m\u001B[38;5;241;43m=\u001B[39;49m\u001B[43mconsolidate\u001B[49m\u001B[43m,\u001B[49m\u001B[43m \u001B[49m\u001B[43mrefs\u001B[49m\u001B[38;5;241;43m=\u001B[39;49m\u001B[43mrefs\u001B[49m\n\u001B[0;32m    154\u001B[0m \u001B[43m    \u001B[49m\u001B[43m)\u001B[49m\n\u001B[0;32m    155\u001B[0m \u001B[38;5;28;01melif\u001B[39;00m typ \u001B[38;5;241m==\u001B[39m \u001B[38;5;124m\"\u001B[39m\u001B[38;5;124marray\u001B[39m\u001B[38;5;124m\"\u001B[39m:\n\u001B[0;32m    156\u001B[0m     \u001B[38;5;28;01mreturn\u001B[39;00m ArrayManager(arrays, [index, columns])\n",
      "File \u001B[1;32m~\\miniconda3\\envs\\tf\\lib\\site-packages\\pandas\\core\\internals\\managers.py:2143\u001B[0m, in \u001B[0;36mcreate_block_manager_from_column_arrays\u001B[1;34m(arrays, axes, consolidate, refs)\u001B[0m\n\u001B[0;32m   2141\u001B[0m     raise_construction_error(\u001B[38;5;28mlen\u001B[39m(arrays), arrays[\u001B[38;5;241m0\u001B[39m]\u001B[38;5;241m.\u001B[39mshape, axes, e)\n\u001B[0;32m   2142\u001B[0m \u001B[38;5;28;01mif\u001B[39;00m consolidate:\n\u001B[1;32m-> 2143\u001B[0m     \u001B[43mmgr\u001B[49m\u001B[38;5;241;43m.\u001B[39;49m\u001B[43m_consolidate_inplace\u001B[49m\u001B[43m(\u001B[49m\u001B[43m)\u001B[49m\n\u001B[0;32m   2144\u001B[0m \u001B[38;5;28;01mreturn\u001B[39;00m mgr\n",
      "File \u001B[1;32m~\\miniconda3\\envs\\tf\\lib\\site-packages\\pandas\\core\\internals\\managers.py:1787\u001B[0m, in \u001B[0;36mBlockManager._consolidate_inplace\u001B[1;34m(self)\u001B[0m\n\u001B[0;32m   1781\u001B[0m \u001B[38;5;28;01mdef\u001B[39;00m \u001B[38;5;21m_consolidate_inplace\u001B[39m(\u001B[38;5;28mself\u001B[39m) \u001B[38;5;241m-\u001B[39m\u001B[38;5;241m>\u001B[39m \u001B[38;5;28;01mNone\u001B[39;00m:\n\u001B[0;32m   1782\u001B[0m     \u001B[38;5;66;03m# In general, _consolidate_inplace should only be called via\u001B[39;00m\n\u001B[0;32m   1783\u001B[0m     \u001B[38;5;66;03m#  DataFrame._consolidate_inplace, otherwise we will fail to invalidate\u001B[39;00m\n\u001B[0;32m   1784\u001B[0m     \u001B[38;5;66;03m#  the DataFrame's _item_cache. The exception is for newly-created\u001B[39;00m\n\u001B[0;32m   1785\u001B[0m     \u001B[38;5;66;03m#  BlockManager objects not yet attached to a DataFrame.\u001B[39;00m\n\u001B[0;32m   1786\u001B[0m     \u001B[38;5;28;01mif\u001B[39;00m \u001B[38;5;129;01mnot\u001B[39;00m \u001B[38;5;28mself\u001B[39m\u001B[38;5;241m.\u001B[39mis_consolidated():\n\u001B[1;32m-> 1787\u001B[0m         \u001B[38;5;28mself\u001B[39m\u001B[38;5;241m.\u001B[39mblocks \u001B[38;5;241m=\u001B[39m \u001B[43m_consolidate\u001B[49m\u001B[43m(\u001B[49m\u001B[38;5;28;43mself\u001B[39;49m\u001B[38;5;241;43m.\u001B[39;49m\u001B[43mblocks\u001B[49m\u001B[43m)\u001B[49m\n\u001B[0;32m   1788\u001B[0m         \u001B[38;5;28mself\u001B[39m\u001B[38;5;241m.\u001B[39m_is_consolidated \u001B[38;5;241m=\u001B[39m \u001B[38;5;28;01mTrue\u001B[39;00m\n\u001B[0;32m   1789\u001B[0m         \u001B[38;5;28mself\u001B[39m\u001B[38;5;241m.\u001B[39m_known_consolidated \u001B[38;5;241m=\u001B[39m \u001B[38;5;28;01mTrue\u001B[39;00m\n",
      "File \u001B[1;32m~\\miniconda3\\envs\\tf\\lib\\site-packages\\pandas\\core\\internals\\managers.py:2268\u001B[0m, in \u001B[0;36m_consolidate\u001B[1;34m(blocks)\u001B[0m\n\u001B[0;32m   2266\u001B[0m new_blocks: \u001B[38;5;28mlist\u001B[39m[Block] \u001B[38;5;241m=\u001B[39m []\n\u001B[0;32m   2267\u001B[0m \u001B[38;5;28;01mfor\u001B[39;00m (_can_consolidate, dtype), group_blocks \u001B[38;5;129;01min\u001B[39;00m grouper:\n\u001B[1;32m-> 2268\u001B[0m     merged_blocks, _ \u001B[38;5;241m=\u001B[39m \u001B[43m_merge_blocks\u001B[49m\u001B[43m(\u001B[49m\n\u001B[0;32m   2269\u001B[0m \u001B[43m        \u001B[49m\u001B[38;5;28;43mlist\u001B[39;49m\u001B[43m(\u001B[49m\u001B[43mgroup_blocks\u001B[49m\u001B[43m)\u001B[49m\u001B[43m,\u001B[49m\u001B[43m \u001B[49m\u001B[43mdtype\u001B[49m\u001B[38;5;241;43m=\u001B[39;49m\u001B[43mdtype\u001B[49m\u001B[43m,\u001B[49m\u001B[43m \u001B[49m\u001B[43mcan_consolidate\u001B[49m\u001B[38;5;241;43m=\u001B[39;49m\u001B[43m_can_consolidate\u001B[49m\n\u001B[0;32m   2270\u001B[0m \u001B[43m    \u001B[49m\u001B[43m)\u001B[49m\n\u001B[0;32m   2271\u001B[0m     new_blocks \u001B[38;5;241m=\u001B[39m extend_blocks(merged_blocks, new_blocks)\n\u001B[0;32m   2272\u001B[0m \u001B[38;5;28;01mreturn\u001B[39;00m \u001B[38;5;28mtuple\u001B[39m(new_blocks)\n",
      "File \u001B[1;32m~\\miniconda3\\envs\\tf\\lib\\site-packages\\pandas\\core\\internals\\managers.py:2300\u001B[0m, in \u001B[0;36m_merge_blocks\u001B[1;34m(blocks, dtype, can_consolidate)\u001B[0m\n\u001B[0;32m   2297\u001B[0m     new_values \u001B[38;5;241m=\u001B[39m bvals2[\u001B[38;5;241m0\u001B[39m]\u001B[38;5;241m.\u001B[39m_concat_same_type(bvals2, axis\u001B[38;5;241m=\u001B[39m\u001B[38;5;241m0\u001B[39m)\n\u001B[0;32m   2299\u001B[0m argsort \u001B[38;5;241m=\u001B[39m np\u001B[38;5;241m.\u001B[39margsort(new_mgr_locs)\n\u001B[1;32m-> 2300\u001B[0m new_values \u001B[38;5;241m=\u001B[39m \u001B[43mnew_values\u001B[49m\u001B[43m[\u001B[49m\u001B[43margsort\u001B[49m\u001B[43m]\u001B[49m\n\u001B[0;32m   2301\u001B[0m new_mgr_locs \u001B[38;5;241m=\u001B[39m new_mgr_locs[argsort]\n\u001B[0;32m   2303\u001B[0m bp \u001B[38;5;241m=\u001B[39m BlockPlacement(new_mgr_locs)\n",
      "\u001B[1;31mMemoryError\u001B[0m: Unable to allocate 878. MiB for an array with shape (1189, 96806) and data type float64"
     ]
    }
   ],
   "execution_count": 54
  },
  {
   "metadata": {
    "ExecuteTime": {
     "end_time": "2025-01-15T09:07:08.698325Z",
     "start_time": "2025-01-15T09:07:08.107192Z"
    },
    "id": "c726facb1dd8d1f",
    "outputId": "7fe8d06e-e45e-4f19-aa8b-0f532323b2c4"
   },
   "cell_type": "code",
   "source": [
    "print(X_resampled_scaled.shape)\n",
    "print(y_resampled.shape)"
   ],
   "id": "c726facb1dd8d1f",
   "outputs": [
    {
     "ename": "NameError",
     "evalue": "name 'X_resampled_scaled' is not defined",
     "output_type": "error",
     "traceback": [
      "\u001B[1;31m---------------------------------------------------------------------------\u001B[0m",
      "\u001B[1;31mNameError\u001B[0m                                 Traceback (most recent call last)",
      "Cell \u001B[1;32mIn[2], line 1\u001B[0m\n\u001B[1;32m----> 1\u001B[0m \u001B[38;5;28mprint\u001B[39m(\u001B[43mX_resampled_scaled\u001B[49m\u001B[38;5;241m.\u001B[39mshape)\n\u001B[0;32m      2\u001B[0m \u001B[38;5;28mprint\u001B[39m(y_resampled\u001B[38;5;241m.\u001B[39mshape)\n",
      "\u001B[1;31mNameError\u001B[0m: name 'X_resampled_scaled' is not defined"
     ]
    }
   ],
   "execution_count": null
  },
  {
   "cell_type": "code",
   "source": [
    "!pip install imbalanced-learn\n"
   ],
   "metadata": {
    "id": "SHRNFsKRS6iq",
    "outputId": "7e10c24c-f620-41c2-caa4-6c612f3e1ef8",
    "colab": {
     "base_uri": "https://localhost:8080/"
    }
   },
   "id": "SHRNFsKRS6iq",
   "execution_count": 9,
   "outputs": [
    {
     "output_type": "stream",
     "name": "stdout",
     "text": [
      "Collecting imbalanced-learn\n",
      "  Downloading imbalanced_learn-0.13.0-py3-none-any.whl.metadata (8.8 kB)\n",
      "Requirement already satisfied: numpy<3,>=1.24.3 in /usr/local/lib/python3.10/dist-packages (from imbalanced-learn) (1.26.4)\n",
      "Requirement already satisfied: scipy<2,>=1.10.1 in /usr/local/lib/python3.10/dist-packages (from imbalanced-learn) (1.13.1)\n",
      "Requirement already satisfied: scikit-learn<2,>=1.3.2 in /usr/local/lib/python3.10/dist-packages (from imbalanced-learn) (1.6.0)\n",
      "Collecting sklearn-compat<1,>=0.1 (from imbalanced-learn)\n",
      "  Downloading sklearn_compat-0.1.3-py3-none-any.whl.metadata (18 kB)\n",
      "Requirement already satisfied: joblib<2,>=1.1.1 in /usr/local/lib/python3.10/dist-packages (from imbalanced-learn) (1.4.2)\n",
      "Requirement already satisfied: threadpoolctl<4,>=2.0.0 in /usr/local/lib/python3.10/dist-packages (from imbalanced-learn) (3.5.0)\n",
      "Downloading imbalanced_learn-0.13.0-py3-none-any.whl (238 kB)\n",
      "\u001B[?25l   \u001B[90m━━━━━━━━━━━━━━━━━━━━━━━━━━━━━━━━━━━━━━━━\u001B[0m \u001B[32m0.0/238.4 kB\u001B[0m \u001B[31m?\u001B[0m eta \u001B[36m-:--:--\u001B[0m\r\u001B[2K   \u001B[91m━━━━━━━━━━━━━━━━━━━━━━━━━━━━━━━━━━━━━━━\u001B[0m\u001B[91m╸\u001B[0m \u001B[32m235.5/238.4 kB\u001B[0m \u001B[31m7.7 MB/s\u001B[0m eta \u001B[36m0:00:01\u001B[0m\r\u001B[2K   \u001B[90m━━━━━━━━━━━━━━━━━━━━━━━━━━━━━━━━━━━━━━━━\u001B[0m \u001B[32m238.4/238.4 kB\u001B[0m \u001B[31m5.1 MB/s\u001B[0m eta \u001B[36m0:00:00\u001B[0m\n",
      "\u001B[?25hDownloading sklearn_compat-0.1.3-py3-none-any.whl (18 kB)\n",
      "Installing collected packages: sklearn-compat, imbalanced-learn\n",
      "Successfully installed imbalanced-learn-0.13.0 sklearn-compat-0.1.3\n"
     ]
    }
   ]
  },
  {
   "cell_type": "code",
   "id": "initial_id",
   "metadata": {
    "collapsed": true,
    "jupyter": {
     "is_executing": true
    },
    "ExecuteTime": {
     "start_time": "2025-01-15T08:52:39.288184Z"
    },
    "id": "initial_id",
    "outputId": "f27f233f-0f25-4045-f0c5-70cef1a20b57",
    "colab": {
     "base_uri": "https://localhost:8080/",
     "height": 383
    }
   },
   "source": [
    "import joblib  # Library for saving and loading models\n",
    "import pandas as pd\n",
    "from sklearn.model_selection import GridSearchCV\n",
    "from sklearn.metrics import classification_report\n",
    "from sklearn.neural_network import MLPClassifier\n",
    "from imblearn.over_sampling import SMOTE\n",
    "from sklearn.preprocessing import StandardScaler\n",
    "import numpy as np\n",
    "\n",
    "# Resample using SMOTE\n",
    "smote = SMOTE(random_state=42)\n",
    "X_resampled, y_resampled = smote.fit_resample(X_train, y_train)\n",
    "\n",
    "# # Convert the dataset to float32 to reduce memory usage\n",
    "# X_resampled = X_resampled.astype(np.float32)\n",
    "# X_test = X_test.astype(np.float32)\n",
    "\n",
    "# Standardize features\n",
    "scaler = StandardScaler()\n",
    "X_resampled_scaled = scaler.fit_transform(X_resampled)\n",
    "X_test_scaled = scaler.transform(X_test)\n",
    "\n",
    "# Define parameter grid\n",
    "param_grid = {\n",
    "    'hidden_layer_sizes': [(128,), (256,), (512,), (256, 128), (512, 256)],\n",
    "    'activation': ['relu', 'tanh'],\n",
    "    'solver': ['adam', 'sgd'],\n",
    "    'alpha': [0.0001, 0.001, 0.01],\n",
    "    'learning_rate': ['constant', 'adaptive'],\n",
    "    'max_iter': [10],\n",
    "    'early_stopping': [True]\n",
    "}\n",
    "\n",
    "# Initialize MLPClassifier\n",
    "mlp = MLPClassifier(random_state=42)\n",
    "\n",
    "# Perform Grid Search\n",
    "grid_search = GridSearchCV(\n",
    "    estimator=mlp,\n",
    "    param_grid=param_grid,\n",
    "    scoring='f1',\n",
    "    cv=3,\n",
    "    verbose=1,\n",
    "    n_jobs=-1\n",
    ")\n",
    "\n",
    "# Fit Grid Search\n",
    "grid_search.fit(X_resampled_scaled, y_resampled)\n",
    "\n",
    "# Save all results\n",
    "results = pd.DataFrame(grid_search.cv_results_)\n",
    "results.to_csv('mlp_hyperparameter_tuning_results.csv', index=False)\n",
    "\n",
    "# Print total models tested and top 5 models\n",
    "print(f\"Total models tested: {len(results)}\")\n",
    "print(\"Top 5 models:\")\n",
    "print(results[['mean_test_score', 'std_test_score', 'params']].sort_values(by='mean_test_score', ascending=False).head())\n",
    "\n",
    "# Save the best model\n",
    "best_model = grid_search.best_estimator_\n",
    "joblib.dump(best_model, \"best_mlp_model.joblib\")\n",
    "print(\"Best model saved as 'best_mlp_model.joblib'\")\n",
    "\n",
    "# Evaluate the best model on the test set\n",
    "y_pred = best_model.predict(X_test_scaled)\n",
    "print(\"Classification Report:\")\n",
    "print(classification_report(y_test, y_pred))\n"
   ],
   "outputs": [
    {
     "output_type": "stream",
     "name": "stdout",
     "text": [
      "Fitting 3 folds for each of 120 candidates, totalling 360 fits\n"
     ]
    },
    {
     "output_type": "error",
     "ename": "KeyboardInterrupt",
     "evalue": "",
     "traceback": [
      "\u001B[0;31m---------------------------------------------------------------------------\u001B[0m",
      "\u001B[0;31mKeyboardInterrupt\u001B[0m                         Traceback (most recent call last)",
      "\u001B[0;32m<ipython-input-12-2802b1a4b78e>\u001B[0m in \u001B[0;36m<cell line: 48>\u001B[0;34m()\u001B[0m\n\u001B[1;32m     46\u001B[0m \u001B[0;34m\u001B[0m\u001B[0m\n\u001B[1;32m     47\u001B[0m \u001B[0;31m# Fit Grid Search\u001B[0m\u001B[0;34m\u001B[0m\u001B[0;34m\u001B[0m\u001B[0m\n\u001B[0;32m---> 48\u001B[0;31m \u001B[0mgrid_search\u001B[0m\u001B[0;34m.\u001B[0m\u001B[0mfit\u001B[0m\u001B[0;34m(\u001B[0m\u001B[0mX_resampled_scaled\u001B[0m\u001B[0;34m,\u001B[0m \u001B[0my_resampled\u001B[0m\u001B[0;34m)\u001B[0m\u001B[0;34m\u001B[0m\u001B[0;34m\u001B[0m\u001B[0m\n\u001B[0m\u001B[1;32m     49\u001B[0m \u001B[0;34m\u001B[0m\u001B[0m\n\u001B[1;32m     50\u001B[0m \u001B[0;31m# Save all results\u001B[0m\u001B[0;34m\u001B[0m\u001B[0;34m\u001B[0m\u001B[0m\n",
      "\u001B[0;32m/usr/local/lib/python3.10/dist-packages/sklearn/base.py\u001B[0m in \u001B[0;36mwrapper\u001B[0;34m(estimator, *args, **kwargs)\u001B[0m\n\u001B[1;32m   1387\u001B[0m                 )\n\u001B[1;32m   1388\u001B[0m             ):\n\u001B[0;32m-> 1389\u001B[0;31m                 \u001B[0;32mreturn\u001B[0m \u001B[0mfit_method\u001B[0m\u001B[0;34m(\u001B[0m\u001B[0mestimator\u001B[0m\u001B[0;34m,\u001B[0m \u001B[0;34m*\u001B[0m\u001B[0margs\u001B[0m\u001B[0;34m,\u001B[0m \u001B[0;34m**\u001B[0m\u001B[0mkwargs\u001B[0m\u001B[0;34m)\u001B[0m\u001B[0;34m\u001B[0m\u001B[0;34m\u001B[0m\u001B[0m\n\u001B[0m\u001B[1;32m   1390\u001B[0m \u001B[0;34m\u001B[0m\u001B[0m\n\u001B[1;32m   1391\u001B[0m         \u001B[0;32mreturn\u001B[0m \u001B[0mwrapper\u001B[0m\u001B[0;34m\u001B[0m\u001B[0;34m\u001B[0m\u001B[0m\n",
      "\u001B[0;32m/usr/local/lib/python3.10/dist-packages/sklearn/model_selection/_search.py\u001B[0m in \u001B[0;36mfit\u001B[0;34m(self, X, y, **params)\u001B[0m\n\u001B[1;32m   1021\u001B[0m                 \u001B[0;32mreturn\u001B[0m \u001B[0mresults\u001B[0m\u001B[0;34m\u001B[0m\u001B[0;34m\u001B[0m\u001B[0m\n\u001B[1;32m   1022\u001B[0m \u001B[0;34m\u001B[0m\u001B[0m\n\u001B[0;32m-> 1023\u001B[0;31m             \u001B[0mself\u001B[0m\u001B[0;34m.\u001B[0m\u001B[0m_run_search\u001B[0m\u001B[0;34m(\u001B[0m\u001B[0mevaluate_candidates\u001B[0m\u001B[0;34m)\u001B[0m\u001B[0;34m\u001B[0m\u001B[0;34m\u001B[0m\u001B[0m\n\u001B[0m\u001B[1;32m   1024\u001B[0m \u001B[0;34m\u001B[0m\u001B[0m\n\u001B[1;32m   1025\u001B[0m             \u001B[0;31m# multimetric is determined here because in the case of a callable\u001B[0m\u001B[0;34m\u001B[0m\u001B[0;34m\u001B[0m\u001B[0m\n",
      "\u001B[0;32m/usr/local/lib/python3.10/dist-packages/sklearn/model_selection/_search.py\u001B[0m in \u001B[0;36m_run_search\u001B[0;34m(self, evaluate_candidates)\u001B[0m\n\u001B[1;32m   1568\u001B[0m     \u001B[0;32mdef\u001B[0m \u001B[0m_run_search\u001B[0m\u001B[0;34m(\u001B[0m\u001B[0mself\u001B[0m\u001B[0;34m,\u001B[0m \u001B[0mevaluate_candidates\u001B[0m\u001B[0;34m)\u001B[0m\u001B[0;34m:\u001B[0m\u001B[0;34m\u001B[0m\u001B[0;34m\u001B[0m\u001B[0m\n\u001B[1;32m   1569\u001B[0m         \u001B[0;34m\"\"\"Search all candidates in param_grid\"\"\"\u001B[0m\u001B[0;34m\u001B[0m\u001B[0;34m\u001B[0m\u001B[0m\n\u001B[0;32m-> 1570\u001B[0;31m         \u001B[0mevaluate_candidates\u001B[0m\u001B[0;34m(\u001B[0m\u001B[0mParameterGrid\u001B[0m\u001B[0;34m(\u001B[0m\u001B[0mself\u001B[0m\u001B[0;34m.\u001B[0m\u001B[0mparam_grid\u001B[0m\u001B[0;34m)\u001B[0m\u001B[0;34m)\u001B[0m\u001B[0;34m\u001B[0m\u001B[0;34m\u001B[0m\u001B[0m\n\u001B[0m\u001B[1;32m   1571\u001B[0m \u001B[0;34m\u001B[0m\u001B[0m\n\u001B[1;32m   1572\u001B[0m \u001B[0;34m\u001B[0m\u001B[0m\n",
      "\u001B[0;32m/usr/local/lib/python3.10/dist-packages/sklearn/model_selection/_search.py\u001B[0m in \u001B[0;36mevaluate_candidates\u001B[0;34m(candidate_params, cv, more_results)\u001B[0m\n\u001B[1;32m    967\u001B[0m                     )\n\u001B[1;32m    968\u001B[0m \u001B[0;34m\u001B[0m\u001B[0m\n\u001B[0;32m--> 969\u001B[0;31m                 out = parallel(\n\u001B[0m\u001B[1;32m    970\u001B[0m                     delayed(_fit_and_score)(\n\u001B[1;32m    971\u001B[0m                         \u001B[0mclone\u001B[0m\u001B[0;34m(\u001B[0m\u001B[0mbase_estimator\u001B[0m\u001B[0;34m)\u001B[0m\u001B[0;34m,\u001B[0m\u001B[0;34m\u001B[0m\u001B[0;34m\u001B[0m\u001B[0m\n",
      "\u001B[0;32m/usr/local/lib/python3.10/dist-packages/sklearn/utils/parallel.py\u001B[0m in \u001B[0;36m__call__\u001B[0;34m(self, iterable)\u001B[0m\n\u001B[1;32m     75\u001B[0m             \u001B[0;32mfor\u001B[0m \u001B[0mdelayed_func\u001B[0m\u001B[0;34m,\u001B[0m \u001B[0margs\u001B[0m\u001B[0;34m,\u001B[0m \u001B[0mkwargs\u001B[0m \u001B[0;32min\u001B[0m \u001B[0miterable\u001B[0m\u001B[0;34m\u001B[0m\u001B[0;34m\u001B[0m\u001B[0m\n\u001B[1;32m     76\u001B[0m         )\n\u001B[0;32m---> 77\u001B[0;31m         \u001B[0;32mreturn\u001B[0m \u001B[0msuper\u001B[0m\u001B[0;34m(\u001B[0m\u001B[0;34m)\u001B[0m\u001B[0;34m.\u001B[0m\u001B[0m__call__\u001B[0m\u001B[0;34m(\u001B[0m\u001B[0miterable_with_config\u001B[0m\u001B[0;34m)\u001B[0m\u001B[0;34m\u001B[0m\u001B[0;34m\u001B[0m\u001B[0m\n\u001B[0m\u001B[1;32m     78\u001B[0m \u001B[0;34m\u001B[0m\u001B[0m\n\u001B[1;32m     79\u001B[0m \u001B[0;34m\u001B[0m\u001B[0m\n",
      "\u001B[0;32m/usr/local/lib/python3.10/dist-packages/joblib/parallel.py\u001B[0m in \u001B[0;36m__call__\u001B[0;34m(self, iterable)\u001B[0m\n\u001B[1;32m   2005\u001B[0m         \u001B[0mnext\u001B[0m\u001B[0;34m(\u001B[0m\u001B[0moutput\u001B[0m\u001B[0;34m)\u001B[0m\u001B[0;34m\u001B[0m\u001B[0;34m\u001B[0m\u001B[0m\n\u001B[1;32m   2006\u001B[0m \u001B[0;34m\u001B[0m\u001B[0m\n\u001B[0;32m-> 2007\u001B[0;31m         \u001B[0;32mreturn\u001B[0m \u001B[0moutput\u001B[0m \u001B[0;32mif\u001B[0m \u001B[0mself\u001B[0m\u001B[0;34m.\u001B[0m\u001B[0mreturn_generator\u001B[0m \u001B[0;32melse\u001B[0m \u001B[0mlist\u001B[0m\u001B[0;34m(\u001B[0m\u001B[0moutput\u001B[0m\u001B[0;34m)\u001B[0m\u001B[0;34m\u001B[0m\u001B[0;34m\u001B[0m\u001B[0m\n\u001B[0m\u001B[1;32m   2008\u001B[0m \u001B[0;34m\u001B[0m\u001B[0m\n\u001B[1;32m   2009\u001B[0m     \u001B[0;32mdef\u001B[0m \u001B[0m__repr__\u001B[0m\u001B[0;34m(\u001B[0m\u001B[0mself\u001B[0m\u001B[0;34m)\u001B[0m\u001B[0;34m:\u001B[0m\u001B[0;34m\u001B[0m\u001B[0;34m\u001B[0m\u001B[0m\n",
      "\u001B[0;32m/usr/local/lib/python3.10/dist-packages/joblib/parallel.py\u001B[0m in \u001B[0;36m_get_outputs\u001B[0;34m(self, iterator, pre_dispatch)\u001B[0m\n\u001B[1;32m   1648\u001B[0m \u001B[0;34m\u001B[0m\u001B[0m\n\u001B[1;32m   1649\u001B[0m             \u001B[0;32mwith\u001B[0m \u001B[0mself\u001B[0m\u001B[0;34m.\u001B[0m\u001B[0m_backend\u001B[0m\u001B[0;34m.\u001B[0m\u001B[0mretrieval_context\u001B[0m\u001B[0;34m(\u001B[0m\u001B[0;34m)\u001B[0m\u001B[0;34m:\u001B[0m\u001B[0;34m\u001B[0m\u001B[0;34m\u001B[0m\u001B[0m\n\u001B[0;32m-> 1650\u001B[0;31m                 \u001B[0;32myield\u001B[0m \u001B[0;32mfrom\u001B[0m \u001B[0mself\u001B[0m\u001B[0;34m.\u001B[0m\u001B[0m_retrieve\u001B[0m\u001B[0;34m(\u001B[0m\u001B[0;34m)\u001B[0m\u001B[0;34m\u001B[0m\u001B[0;34m\u001B[0m\u001B[0m\n\u001B[0m\u001B[1;32m   1651\u001B[0m \u001B[0;34m\u001B[0m\u001B[0m\n\u001B[1;32m   1652\u001B[0m         \u001B[0;32mexcept\u001B[0m \u001B[0mGeneratorExit\u001B[0m\u001B[0;34m:\u001B[0m\u001B[0;34m\u001B[0m\u001B[0;34m\u001B[0m\u001B[0m\n",
      "\u001B[0;32m/usr/local/lib/python3.10/dist-packages/joblib/parallel.py\u001B[0m in \u001B[0;36m_retrieve\u001B[0;34m(self)\u001B[0m\n\u001B[1;32m   1760\u001B[0m                 (self._jobs[0].get_status(\n\u001B[1;32m   1761\u001B[0m                     timeout=self.timeout) == TASK_PENDING)):\n\u001B[0;32m-> 1762\u001B[0;31m                 \u001B[0mtime\u001B[0m\u001B[0;34m.\u001B[0m\u001B[0msleep\u001B[0m\u001B[0;34m(\u001B[0m\u001B[0;36m0.01\u001B[0m\u001B[0;34m)\u001B[0m\u001B[0;34m\u001B[0m\u001B[0;34m\u001B[0m\u001B[0m\n\u001B[0m\u001B[1;32m   1763\u001B[0m                 \u001B[0;32mcontinue\u001B[0m\u001B[0;34m\u001B[0m\u001B[0;34m\u001B[0m\u001B[0m\n\u001B[1;32m   1764\u001B[0m \u001B[0;34m\u001B[0m\u001B[0m\n",
      "\u001B[0;31mKeyboardInterrupt\u001B[0m: "
     ]
    }
   ],
   "execution_count": 12
  },
  {
   "cell_type": "code",
   "source": [
    "!pip install tqdm\n"
   ],
   "metadata": {
    "id": "xdSXkyAYYCrx",
    "outputId": "0d54f5a8-4e2e-437b-cd8c-174d84657ab5",
    "colab": {
     "base_uri": "https://localhost:8080/"
    }
   },
   "id": "xdSXkyAYYCrx",
   "execution_count": 13,
   "outputs": [
    {
     "output_type": "stream",
     "name": "stdout",
     "text": [
      "Requirement already satisfied: tqdm in /usr/local/lib/python3.10/dist-packages (4.67.1)\n"
     ]
    }
   ]
  },
  {
   "cell_type": "code",
   "source": [
    "from tqdm import tqdm\n",
    "from sklearn.model_selection import GridSearchCV\n",
    "from sklearn.metrics import classification_report\n",
    "from sklearn.neural_network import MLPClassifier\n",
    "from imblearn.over_sampling import SMOTE\n",
    "from sklearn.preprocessing import StandardScaler\n",
    "import joblib\n",
    "import pandas as pd\n",
    "\n",
    "# Resample using SMOTE\n",
    "smote = SMOTE(random_state=42)\n",
    "X_resampled, y_resampled = smote.fit_resample(X_train, y_train)\n",
    "\n",
    "# Standardize features\n",
    "scaler = StandardScaler()\n",
    "X_resampled_scaled = scaler.fit_transform(X_resampled)\n",
    "X_test_scaled = scaler.transform(X_test)\n",
    "\n",
    "# Define parameter grid\n",
    "param_grid = {\n",
    "    'hidden_layer_sizes': [(128,), (256,), (512,), (256, 128), (512, 256)],\n",
    "    'activation': ['relu', 'tanh'],\n",
    "    'solver': ['adam', 'sgd'],\n",
    "    'alpha': [0.0001, 0.001, 0.01],\n",
    "    'learning_rate': ['constant', 'adaptive'],\n",
    "    'max_iter': [10],\n",
    "    'early_stopping': [True]\n",
    "}\n",
    "\n",
    "# Initialize MLPClassifier\n",
    "mlp = MLPClassifier(random_state=42)\n",
    "\n",
    "# Wrap GridSearchCV with tqdm\n",
    "class TQDMGridSearchCV(GridSearchCV):\n",
    "    def fit(self, X, y=None, **fit_params):\n",
    "        # Total number of fits\n",
    "        n_candidates = len(self.param_grid['hidden_layer_sizes']) * len(self.param_grid['activation']) * \\\n",
    "                       len(self.param_grid['solver']) * len(self.param_grid['alpha']) * \\\n",
    "                       len(self.param_grid['learning_rate'])\n",
    "        n_splits = self.cv\n",
    "        total_fits = n_candidates * n_splits\n",
    "\n",
    "        with tqdm(total=total_fits, desc=\"Grid Search Progress\") as pbar:\n",
    "            # Add a custom callback to update tqdm progress\n",
    "            self._tqdm = pbar\n",
    "            return super().fit(X, y, **fit_params)\n",
    "\n",
    "    def _fit_and_score(self, *args, **kwargs):\n",
    "        result = super()._fit_and_score(*args, **kwargs)\n",
    "        self._tqdm.update(1)  # Update progress bar for each fit\n",
    "        return result\n",
    "\n",
    "# Perform Grid Search with TQDMGridSearchCV\n",
    "grid_search = TQDMGridSearchCV(\n",
    "    estimator=mlp,\n",
    "    param_grid=param_grid,\n",
    "    scoring='f1',\n",
    "    cv=3,\n",
    "    verbose=0,  # Turn off sklearn verbosity since tqdm handles it\n",
    "    n_jobs=-1\n",
    ")\n",
    "\n",
    "# Fit the model\n",
    "grid_search.fit(X_resampled_scaled, y_resampled)\n",
    "\n",
    "# Save all results\n",
    "results = pd.DataFrame(grid_search.cv_results_)\n",
    "results.to_csv('mlp_hyperparameter_tuning_results.csv', index=False)\n",
    "\n",
    "# Print total models tested and top 5 models\n",
    "print(f\"Total models tested: {len(results)}\")\n",
    "print(\"Top 5 models:\")\n",
    "print(results[['mean_test_score', 'std_test_score', 'params']].sort_values(by='mean_test_score', ascending=False).head())\n",
    "\n",
    "# Save the best model\n",
    "best_model = grid_search.best_estimator_\n",
    "joblib.dump(best_model, \"best_mlp_model.joblib\")\n",
    "print(\"Best model saved as 'best_mlp_model.joblib'\")\n",
    "\n",
    "# Evaluate the best model on the test set\n",
    "y_pred = best_model.predict(X_test_scaled)\n",
    "print(\"Classification Report:\")\n",
    "print(classification_report(y_test, y_pred))\n"
   ],
   "metadata": {
    "id": "FPKDZ5BTYKey",
    "outputId": "8e04351c-3e5e-4b07-f696-1180af1fed02",
    "colab": {
     "base_uri": "https://localhost:8080/"
    }
   },
   "id": "FPKDZ5BTYKey",
   "execution_count": 16,
   "outputs": [
    {
     "output_type": "stream",
     "name": "stderr",
     "text": [
      "Grid Search Progress:   0%|          | 0/360 [00:00<?, ?it/s]/usr/local/lib/python3.10/dist-packages/sklearn/neural_network/_multilayer_perceptron.py:691: ConvergenceWarning: Stochastic Optimizer: Maximum iterations (10) reached and the optimization hasn't converged yet.\n",
      "  warnings.warn(\n",
      "Grid Search Progress:   0%|          | 0/360 [01:50<?, ?it/s]\n"
     ]
    },
    {
     "output_type": "stream",
     "name": "stdout",
     "text": [
      "Total models tested: 120\n",
      "Top 5 models:\n",
      "    mean_test_score  std_test_score  \\\n",
      "34         0.988614        0.004396   \n",
      "32         0.988614        0.004396   \n",
      "54         0.988614        0.004396   \n",
      "52         0.988614        0.004396   \n",
      "12         0.988614        0.004396   \n",
      "\n",
      "                                               params  \n",
      "34  {'activation': 'relu', 'alpha': 0.001, 'early_...  \n",
      "32  {'activation': 'relu', 'alpha': 0.001, 'early_...  \n",
      "54  {'activation': 'relu', 'alpha': 0.01, 'early_s...  \n",
      "52  {'activation': 'relu', 'alpha': 0.01, 'early_s...  \n",
      "12  {'activation': 'relu', 'alpha': 0.0001, 'early...  \n",
      "Best model saved as 'best_mlp_model.joblib'\n",
      "Classification Report:\n",
      "              precision    recall  f1-score   support\n",
      "\n",
      "           0       0.99      0.99      0.99     94481\n",
      "           1       0.04      0.02      0.02      1357\n",
      "\n",
      "    accuracy                           0.98     95838\n",
      "   macro avg       0.51      0.51      0.51     95838\n",
      "weighted avg       0.97      0.98      0.98     95838\n",
      "\n"
     ]
    }
   ]
  },
  {
   "cell_type": "code",
   "source": [
    "from tqdm import tqdm\n",
    "from sklearn.model_selection import GridSearchCV\n",
    "from sklearn.metrics import classification_report\n",
    "from sklearn.neural_network import MLPClassifier\n",
    "from imblearn.over_sampling import SMOTE\n",
    "from sklearn.preprocessing import StandardScaler\n",
    "import numpy as np\n",
    "import joblib\n",
    "import pandas as pd\n",
    "import sys\n",
    "\n",
    "# Resample using SMOTE\n",
    "smote = SMOTE(random_state=42)\n",
    "X_resampled, y_resampled = smote.fit_resample(X_train, y_train)\n",
    "\n",
    "# Standardize features\n",
    "scaler = StandardScaler()\n",
    "X_resampled_scaled = scaler.fit_transform(X_resampled)\n",
    "X_test_scaled = scaler.transform(X_test)\n",
    "\n",
    "# Define parameter grid\n",
    "param_grid = {\n",
    "    'hidden_layer_sizes': [(128,), (256,), (512,), (256, 128), (512, 256)],\n",
    "    'activation': ['relu', 'tanh'],\n",
    "    'solver': ['adam', 'sgd'],\n",
    "    'alpha': [0.0001, 0.001, 0.01],\n",
    "    'learning_rate': ['constant', 'adaptive'],\n",
    "    'max_iter': [10],\n",
    "    'early_stopping': [True]\n",
    "}\n",
    "\n",
    "# Initialize MLPClassifier\n",
    "mlp = MLPClassifier(random_state=42, verbose=True)  # Enable verbose output\n",
    "\n",
    "# Custom GridSearchCV to include tqdm and iteration tracking\n",
    "class TQDMGridSearchCV(GridSearchCV):\n",
    "    def fit(self, X, y=None, **fit_params):\n",
    "        n_candidates = len(self.param_grid['hidden_layer_sizes']) * len(self.param_grid['activation']) * \\\n",
    "                       len(self.param_grid['solver']) * len(self.param_grid['alpha']) * \\\n",
    "                       len(self.param_grid['learning_rate'])\n",
    "        n_splits = self.cv\n",
    "        total_fits = n_candidates * n_splits\n",
    "\n",
    "        with tqdm(total=total_fits, desc=\"Grid Search Progress\") as pbar:\n",
    "            self._tqdm = pbar\n",
    "            self._current_fit = 0\n",
    "\n",
    "            # Capture MLPClassifier's verbose output to track iterations\n",
    "            old_stdout = sys.stdout\n",
    "            sys.stdout = open('/dev/null', 'w')  # Suppress stdout temporarily\n",
    "\n",
    "            try:\n",
    "                # Wrap training to capture iteration progress\n",
    "                return super().fit(X, y, **fit_params)\n",
    "            finally:\n",
    "                sys.stdout = old_stdout\n",
    "\n",
    "    def _fit_and_score(self, *args, **kwargs):\n",
    "        # Log the current fit index\n",
    "        self._current_fit += 1\n",
    "        print(f\"Starting fit {self._current_fit}/{self._tqdm.total}...\")\n",
    "\n",
    "        # Enable iteration tracking per fit\n",
    "        model = args[0]\n",
    "        if hasattr(model, 'verbose'):\n",
    "            model.verbose = True\n",
    "\n",
    "        # Perform the fit and track the progress\n",
    "        result = super()._fit_and_score(*args, **kwargs)\n",
    "        self._tqdm.update(1)\n",
    "        return result\n",
    "\n",
    "# Perform Grid Search\n",
    "grid_search = TQDMGridSearchCV(\n",
    "    estimator=mlp,\n",
    "    param_grid=param_grid,\n",
    "    scoring='f1',\n",
    "    cv=3,\n",
    "    verbose=0,  # Disable default GridSearchCV verbose\n",
    "    n_jobs=-1\n",
    ")\n",
    "\n",
    "# Fit the model\n",
    "grid_search.fit(X_resampled_scaled, y_resampled)\n",
    "\n",
    "# Save all results\n",
    "results = pd.DataFrame(grid_search.cv_results_)\n",
    "results.to_csv('mlp_hyperparameter_tuning_results.csv', index=False)\n",
    "\n",
    "# Print total models tested and top 5 models\n",
    "print(f\"Total models tested: {len(results)}\")\n",
    "print(\"Top 5 models:\")\n",
    "print(results[['mean_test_score', 'std_test_score', 'params']].sort_values(by='mean_test_score', ascending=False).head())\n",
    "\n",
    "# Save the best model\n",
    "best_model = grid_search.best_estimator_\n",
    "joblib.dump(best_model, \"best_mlp_model.joblib\")\n",
    "print(\"Best model saved as 'best_mlp_model.joblib'\")\n",
    "\n",
    "# Evaluate the best model on the test set\n",
    "y_pred = best_model.predict(X_test_scaled)\n",
    "print(\"Classification Report:\")\n",
    "print(classification_report(y_test, y_pred))\n"
   ],
   "metadata": {
    "id": "cKGYDMbZZlK3",
    "outputId": "9dea8085-58f3-441d-df80-9f254c339944",
    "colab": {
     "base_uri": "https://localhost:8080/"
    }
   },
   "id": "cKGYDMbZZlK3",
   "execution_count": 17,
   "outputs": [
    {
     "output_type": "stream",
     "name": "stderr",
     "text": [
      "Grid Search Progress:   0%|          | 0/360 [00:00<?, ?it/s]/usr/local/lib/python3.10/dist-packages/sklearn/neural_network/_multilayer_perceptron.py:691: ConvergenceWarning: Stochastic Optimizer: Maximum iterations (10) reached and the optimization hasn't converged yet.\n",
      "  warnings.warn(\n",
      "Grid Search Progress:   0%|          | 0/360 [01:53<?, ?it/s]\n"
     ]
    },
    {
     "output_type": "stream",
     "name": "stdout",
     "text": [
      "Total models tested: 120\n",
      "Top 5 models:\n",
      "    mean_test_score  std_test_score  \\\n",
      "34         0.988614        0.004396   \n",
      "32         0.988614        0.004396   \n",
      "54         0.988614        0.004396   \n",
      "52         0.988614        0.004396   \n",
      "12         0.988614        0.004396   \n",
      "\n",
      "                                               params  \n",
      "34  {'activation': 'relu', 'alpha': 0.001, 'early_...  \n",
      "32  {'activation': 'relu', 'alpha': 0.001, 'early_...  \n",
      "54  {'activation': 'relu', 'alpha': 0.01, 'early_s...  \n",
      "52  {'activation': 'relu', 'alpha': 0.01, 'early_s...  \n",
      "12  {'activation': 'relu', 'alpha': 0.0001, 'early...  \n",
      "Best model saved as 'best_mlp_model.joblib'\n",
      "Classification Report:\n",
      "              precision    recall  f1-score   support\n",
      "\n",
      "           0       0.99      0.99      0.99     94481\n",
      "           1       0.04      0.02      0.02      1357\n",
      "\n",
      "    accuracy                           0.98     95838\n",
      "   macro avg       0.51      0.51      0.51     95838\n",
      "weighted avg       0.97      0.98      0.98     95838\n",
      "\n"
     ]
    }
   ]
  },
  {
   "cell_type": "code",
   "source": [
    "from tqdm import tqdm\n",
    "from sklearn.model_selection import GridSearchCV\n",
    "from sklearn.metrics import classification_report\n",
    "from sklearn.neural_network import MLPClassifier\n",
    "from imblearn.over_sampling import SMOTE\n",
    "from sklearn.preprocessing import StandardScaler\n",
    "import numpy as np\n",
    "import joblib\n",
    "import pandas as pd\n",
    "\n",
    "# Resample using SMOTE\n",
    "smote = SMOTE(random_state=42)\n",
    "X_resampled, y_resampled = smote.fit_resample(X_train, y_train)\n",
    "\n",
    "# Standardize features\n",
    "scaler = StandardScaler()\n",
    "X_resampled_scaled = scaler.fit_transform(X_resampled)\n",
    "X_test_scaled = scaler.transform(X_test)\n",
    "\n",
    "# Define parameter grid\n",
    "param_grid = {\n",
    "    'hidden_layer_sizes': [(128,), (256,), (512,), (256, 128), (512, 256)],\n",
    "    'activation': ['relu', 'tanh'],\n",
    "    'solver': ['adam', 'sgd'],\n",
    "    'alpha': [0.0001, 0.001, 0.01],\n",
    "    'learning_rate': ['constant', 'adaptive'],\n",
    "    'max_iter': [10],\n",
    "    'early_stopping': [True]\n",
    "}\n",
    "\n",
    "# Initialize progress bar for overall progress\n",
    "total_fits = len(param_grid['hidden_layer_sizes']) * len(param_grid['activation']) * \\\n",
    "             len(param_grid['solver']) * len(param_grid['alpha']) * len(param_grid['learning_rate']) * 3  # cv=3\n",
    "progress_bar = tqdm(total=total_fits, desc=\"Grid Search Progress\")\n",
    "\n",
    "\n",
    "# Custom Wrapper for MLPClassifier to Log Iterations\n",
    "class IterationTrackingMLPClassifier(MLPClassifier):\n",
    "    def _fit(self, X, y, incremental=False):\n",
    "        \"\"\"Override the _fit method to track iterations.\"\"\"\n",
    "        n_iter = 0\n",
    "        max_iter = self.max_iter\n",
    "\n",
    "        while n_iter < max_iter:\n",
    "            super()._fit(X, y, incremental=incremental)\n",
    "            n_iter += 1\n",
    "            print(f\"   Iteration {n_iter}/{max_iter} completed.\")\n",
    "\n",
    "        return self\n",
    "\n",
    "\n",
    "# Initialize MLPClassifier with Iteration Tracking\n",
    "mlp = IterationTrackingMLPClassifier(random_state=42, verbose=True)\n",
    "\n",
    "# Custom GridSearchCV to Track Progress\n",
    "class TQDMGridSearchCV(GridSearchCV):\n",
    "    def _fit_and_score(self, estimator, X, y, scorer, train, test, verbose, parameters, fit_params, return_train_score=False):\n",
    "        # Update tqdm progress for each fit\n",
    "        progress_bar.update(1)\n",
    "        print(f\"Starting fit {progress_bar.n}/{progress_bar.total}...\")\n",
    "        return super()._fit_and_score(estimator, X, y, scorer, train, test, verbose, parameters, fit_params, return_train_score)\n",
    "\n",
    "\n",
    "# Perform Grid Search\n",
    "grid_search = TQDMGridSearchCV(\n",
    "    estimator=mlp,\n",
    "    param_grid=param_grid,\n",
    "    scoring='f1',\n",
    "    cv=3,\n",
    "    verbose=0,  # Disable sklearn verbosity\n",
    "    n_jobs=-1\n",
    ")\n",
    "\n",
    "# Fit the model\n",
    "grid_search.fit(X_resampled_scaled, y_resampled)\n",
    "\n",
    "# Save all results\n",
    "results = pd.DataFrame(grid_search.cv_results_)\n",
    "results.to_csv('mlp_hyperparameter_tuning_results.csv', index=False)\n",
    "\n",
    "# Print total models tested and top 5 models\n",
    "print(f\"Total models tested: {len(results)}\")\n",
    "print(\"Top 5 models:\")\n",
    "print(results[['mean_test_score', 'std_test_score', 'params']].sort_values(by='mean_test_score', ascending=False).head())\n",
    "\n",
    "# Save the best model\n",
    "best_model = grid_search.best_estimator_\n",
    "joblib.dump(best_model, \"best_mlp_model.joblib\")\n",
    "print(\"Best model saved as 'best_mlp_model.joblib'\")\n",
    "\n",
    "# Evaluate the best model on the test set\n",
    "y_pred = best_model.predict(X_test_scaled)\n",
    "print(\"Classification Report:\")\n",
    "print(classification_report(y_test, y_pred))\n",
    "\n",
    "# Close progress bar\n",
    "progress_bar.close()\n"
   ],
   "metadata": {
    "id": "3OnZToyvbcDT"
   },
   "id": "3OnZToyvbcDT",
   "execution_count": null,
   "outputs": []
  },
  {
   "cell_type": "code",
   "source": [
    "from sklearn.neural_network import MLPClassifier\n",
    "from sklearn.preprocessing import StandardScaler\n",
    "from sklearn.metrics import classification_report,f1_score\n",
    "from imblearn.over_sampling import SMOTE\n",
    "import joblib\n",
    "\n",
    "# Resample using SMOTE\n",
    "print(\"Applying SMOTE to handle class imbalance...\")\n",
    "smote = SMOTE(random_state=42)\n",
    "X_resampled, y_resampled = smote.fit_resample(X_train, y_train)\n",
    "\n",
    "# Standardize the features\n",
    "print(\"Standardizing the features...\")\n",
    "scaler = StandardScaler()\n",
    "X_resampled_scaled = scaler.fit_transform(X_resampled)\n",
    "X_test_scaled = scaler.transform(X_test)\n",
    "\n",
    "# Define the MLP model\n",
    "print(\"Defining the MLP model...\")\n",
    "mlp_model = MLPClassifier(\n",
    "    hidden_layer_sizes=(100,50),  # Two hidden layers\n",
    "    activation=\"tanh\",             # ReLU activation function\n",
    "    solver=\"adam\",                 # Adam optimizer\n",
    "    alpha=0.01,                  # L2 regularization term\n",
    "    max_iter=50,                   # Number of iterations\n",
    "    early_stopping=True,           # Stop early if validation score doesn't improve\n",
    "    random_state=42,               # Random state for reproducibility\n",
    "    verbose=True                   # Display training progress\n",
    ")\n",
    "\n",
    "# Train the model\n",
    "print(\"Training the MLP model...\")\n",
    "mlp_model.fit(X_resampled_scaled, y_resampled)\n",
    "print(f\"Number of iterations completed: {mlp_model.n_iter_}\")\n",
    "\n",
    "# Save the trained model\n",
    "model_path = \"new_mlp_model_with_smote.joblib\"\n",
    "joblib.dump(mlp_model, model_path)\n",
    "print(f\"New MLP model saved to '{model_path}'\")"
   ],
   "metadata": {
    "ExecuteTime": {
     "end_time": "2025-01-15T12:50:24.205399Z",
     "start_time": "2025-01-15T12:45:12.711541Z"
    }
   },
   "id": "7e0d1ec93f803d0a",
   "outputs": [
    {
     "name": "stdout",
     "output_type": "stream",
     "text": [
      "Applying SMOTE to handle class imbalance...\n",
      "Standardizing the features...\n",
      "Defining the MLP model...\n",
      "Training the MLP model...\n",
      "Iteration 1, loss = 0.19814921\n",
      "Validation score: 0.964176\n",
      "Iteration 2, loss = 0.07140662\n",
      "Validation score: 0.976095\n",
      "Iteration 3, loss = 0.04845614\n",
      "Validation score: 0.984806\n",
      "Iteration 4, loss = 0.03768633\n",
      "Validation score: 0.985002\n",
      "Iteration 5, loss = 0.03604723\n",
      "Validation score: 0.985723\n",
      "Iteration 6, loss = 0.03290678\n",
      "Validation score: 0.987229\n",
      "Iteration 7, loss = 0.03222356\n",
      "Validation score: 0.988670\n",
      "Iteration 8, loss = 0.03022222\n",
      "Validation score: 0.988342\n",
      "Iteration 9, loss = 0.02794289\n",
      "Validation score: 0.977995\n",
      "Iteration 10, loss = 0.02945328\n",
      "Validation score: 0.988342\n",
      "Iteration 11, loss = 0.03250717\n",
      "Validation score: 0.990307\n",
      "Iteration 12, loss = 0.02749499\n",
      "Validation score: 0.991224\n",
      "Iteration 13, loss = 0.02770946\n",
      "Validation score: 0.990831\n",
      "Iteration 14, loss = 0.02879074\n",
      "Validation score: 0.991944\n",
      "Iteration 15, loss = 0.02852199\n",
      "Validation score: 0.989521\n",
      "Iteration 16, loss = 0.02804593\n",
      "Validation score: 0.989390\n",
      "Iteration 17, loss = 0.02938326\n",
      "Validation score: 0.990242\n",
      "Iteration 18, loss = 0.02863160\n",
      "Validation score: 0.991093\n",
      "Iteration 19, loss = 0.02709256\n",
      "Validation score: 0.990897\n",
      "Iteration 20, loss = 0.02788796\n",
      "Validation score: 0.988015\n",
      "Iteration 21, loss = 0.03000149\n",
      "Validation score: 0.989652\n",
      "Iteration 22, loss = 0.02667112\n",
      "Validation score: 0.990831\n",
      "Iteration 23, loss = 0.02782476\n",
      "Validation score: 0.986050\n",
      "Iteration 24, loss = 0.02875376\n",
      "Validation score: 0.991028\n",
      "Iteration 25, loss = 0.02661000\n",
      "Validation score: 0.988932\n",
      "Validation score did not improve more than tol=0.000100 for 10 consecutive epochs. Stopping.\n",
      "Number of iterations completed: 25\n",
      "New MLP model saved to 'new_mlp_model_with_smote.joblib'\n"
     ]
    }
   ],
   "execution_count": 26
  },
  {
   "metadata": {
    "id": "TcIHkjfFbpNS",
    "outputId": "63f04c7b-a2cd-40ad-ab87-ab04b4edcd0a",
    "colab": {
     "base_uri": "https://localhost:8080/"
    },
    "ExecuteTime": {
     "end_time": "2025-01-15T12:58:26.359484Z",
     "start_time": "2025-01-15T12:58:26.228089Z"
    }
   },
   "cell_type": "code",
   "source": [
    "\n",
    "# Evaluate the model on the test dataset\n",
    "print(\"Evaluating the model on the test dataset...\")\n",
    "y_pred = mlp_model.predict(X_test_scaled)\n",
    "\n",
    "# Print the classification report\n",
    "print(\"Classification Report:\")\n",
    "print(classification_report(y_test, y_pred))\n",
    "f1 = f1_score(y_test, y_pred, average=\"weighted\")\n",
    "print(f\"F1 Score (Weighted): {f1:.4f}\")\n",
    "\n",
    "# Optional: Save the predictions to a CSV file\n",
    "import pandas as pd\n",
    "predictions = pd.DataFrame({\"Actual\": y_test, \"Predicted\": y_pred})\n",
    "predictions.to_csv(\"new_mlp_model_predictions.csv\", index=False)\n",
    "print(\"Predictions saved to 'new_mlp_model_predictions.csv'\")\n"
   ],
   "id": "TcIHkjfFbpNS",
   "outputs": [
    {
     "name": "stdout",
     "output_type": "stream",
     "text": [
      "Evaluating the model on the test dataset...\n",
      "Classification Report:\n",
      "              precision    recall  f1-score   support\n",
      "\n",
      "           0       0.99      0.99      0.99     19092\n",
      "           1       0.05      0.05      0.05       270\n",
      "\n",
      "    accuracy                           0.97     19362\n",
      "   macro avg       0.52      0.52      0.52     19362\n",
      "weighted avg       0.97      0.97      0.97     19362\n",
      "\n",
      "F1 Score (Weighted): 0.9737\n",
      "Predictions saved to 'new_mlp_model_predictions.csv'\n"
     ]
    }
   ],
   "execution_count": 28
  },
  {
   "metadata": {
    "ExecuteTime": {
     "end_time": "2025-01-15T15:56:19.624604Z",
     "start_time": "2025-01-15T15:56:18.102746Z"
    }
   },
   "cell_type": "code",
   "source": [
    "import joblib\n",
    "from sklearn.metrics import classification_report, f1_score, confusion_matrix, ConfusionMatrixDisplay\n",
    "import matplotlib.pyplot as plt\n",
    "import pandas as pd\n",
    "from sklearn.preprocessing import StandardScaler\n",
    "\n",
    "# Load the saved model\n",
    "model_path = \"MLP_model.pkl\"  # Change this to the correct path of your model\n",
    "mlp_model = joblib.load(model_path)\n",
    "print(f\"Loaded model from '{model_path}'\")\n",
    "\n",
    "# Standardize the features\n",
    "scaler = StandardScaler()\n",
    "X_test_scaled = scaler.fit_transform(X_test)  # Ensure the test data is standardized\n",
    "\n",
    "# Make predictions on the test data\n",
    "y_pred = mlp_model.predict(X_test_scaled)\n",
    "\n",
    "# Compute the F1 Score\n",
    "f1 = f1_score(y, y_pred, average=\"weighted\")\n",
    "print(f\"F1 Score (Weighted): {f1:.4f}\")\n",
    "\n",
    "# Print the classification report\n",
    "print(\"Classification Report:\")\n",
    "print(classification_report(y_test, y_pred))\n",
    "\n",
    "# Plot the confusion matrix\n",
    "cm = confusion_matrix(y_test, y_pred)\n",
    "disp = ConfusionMatrixDisplay(confusion_matrix=cm, display_labels=mlp_model.classes_)\n",
    "disp.plot(cmap=plt.cm.Blues)\n",
    "plt.title(\"Confusion Matrix\")\n",
    "plt.show()\n",
    "\n",
    "# Optional: Save the predictions to a CSV file\n",
    "predictions = pd.DataFrame({\"Actual\": y_test, \"Predicted\": y_pred})\n",
    "predictions.to_csv(\"1_model.csv\", index=False)\n",
    "print(\"Predictions saved to 'predictions_from_saved_model.csv'\")\n"
   ],
   "id": "4a0c795db3a230e9",
   "outputs": [
    {
     "name": "stdout",
     "output_type": "stream",
     "text": [
      "Loaded model from 'MLP_model.pkl'\n"
     ]
    },
    {
     "ename": "ValueError",
     "evalue": "Found input variables with inconsistent numbers of samples: [41792, 19362]",
     "output_type": "error",
     "traceback": [
      "\u001B[1;31m---------------------------------------------------------------------------\u001B[0m",
      "\u001B[1;31mValueError\u001B[0m                                Traceback (most recent call last)",
      "Cell \u001B[1;32mIn[56], line 20\u001B[0m\n\u001B[0;32m     17\u001B[0m y_pred \u001B[38;5;241m=\u001B[39m mlp_model\u001B[38;5;241m.\u001B[39mpredict(X_test_scaled)\n\u001B[0;32m     19\u001B[0m \u001B[38;5;66;03m# Compute the F1 Score\u001B[39;00m\n\u001B[1;32m---> 20\u001B[0m f1 \u001B[38;5;241m=\u001B[39m \u001B[43mf1_score\u001B[49m\u001B[43m(\u001B[49m\u001B[43my\u001B[49m\u001B[43m,\u001B[49m\u001B[43m \u001B[49m\u001B[43my_pred\u001B[49m\u001B[43m,\u001B[49m\u001B[43m \u001B[49m\u001B[43maverage\u001B[49m\u001B[38;5;241;43m=\u001B[39;49m\u001B[38;5;124;43m\"\u001B[39;49m\u001B[38;5;124;43mweighted\u001B[39;49m\u001B[38;5;124;43m\"\u001B[39;49m\u001B[43m)\u001B[49m\n\u001B[0;32m     21\u001B[0m \u001B[38;5;28mprint\u001B[39m(\u001B[38;5;124mf\u001B[39m\u001B[38;5;124m\"\u001B[39m\u001B[38;5;124mF1 Score (Weighted): \u001B[39m\u001B[38;5;132;01m{\u001B[39;00mf1\u001B[38;5;132;01m:\u001B[39;00m\u001B[38;5;124m.4f\u001B[39m\u001B[38;5;132;01m}\u001B[39;00m\u001B[38;5;124m\"\u001B[39m)\n\u001B[0;32m     23\u001B[0m \u001B[38;5;66;03m# Print the classification report\u001B[39;00m\n",
      "File \u001B[1;32m~\\miniconda3\\envs\\tf\\lib\\site-packages\\sklearn\\utils\\_param_validation.py:214\u001B[0m, in \u001B[0;36mvalidate_params.<locals>.decorator.<locals>.wrapper\u001B[1;34m(*args, **kwargs)\u001B[0m\n\u001B[0;32m    208\u001B[0m \u001B[38;5;28;01mtry\u001B[39;00m:\n\u001B[0;32m    209\u001B[0m     \u001B[38;5;28;01mwith\u001B[39;00m config_context(\n\u001B[0;32m    210\u001B[0m         skip_parameter_validation\u001B[38;5;241m=\u001B[39m(\n\u001B[0;32m    211\u001B[0m             prefer_skip_nested_validation \u001B[38;5;129;01mor\u001B[39;00m global_skip_validation\n\u001B[0;32m    212\u001B[0m         )\n\u001B[0;32m    213\u001B[0m     ):\n\u001B[1;32m--> 214\u001B[0m         \u001B[38;5;28;01mreturn\u001B[39;00m func(\u001B[38;5;241m*\u001B[39margs, \u001B[38;5;241m*\u001B[39m\u001B[38;5;241m*\u001B[39mkwargs)\n\u001B[0;32m    215\u001B[0m \u001B[38;5;28;01mexcept\u001B[39;00m InvalidParameterError \u001B[38;5;28;01mas\u001B[39;00m e:\n\u001B[0;32m    216\u001B[0m     \u001B[38;5;66;03m# When the function is just a wrapper around an estimator, we allow\u001B[39;00m\n\u001B[0;32m    217\u001B[0m     \u001B[38;5;66;03m# the function to delegate validation to the estimator, but we replace\u001B[39;00m\n\u001B[0;32m    218\u001B[0m     \u001B[38;5;66;03m# the name of the estimator by the name of the function in the error\u001B[39;00m\n\u001B[0;32m    219\u001B[0m     \u001B[38;5;66;03m# message to avoid confusion.\u001B[39;00m\n\u001B[0;32m    220\u001B[0m     msg \u001B[38;5;241m=\u001B[39m re\u001B[38;5;241m.\u001B[39msub(\n\u001B[0;32m    221\u001B[0m         \u001B[38;5;124mr\u001B[39m\u001B[38;5;124m\"\u001B[39m\u001B[38;5;124mparameter of \u001B[39m\u001B[38;5;124m\\\u001B[39m\u001B[38;5;124mw+ must be\u001B[39m\u001B[38;5;124m\"\u001B[39m,\n\u001B[0;32m    222\u001B[0m         \u001B[38;5;124mf\u001B[39m\u001B[38;5;124m\"\u001B[39m\u001B[38;5;124mparameter of \u001B[39m\u001B[38;5;132;01m{\u001B[39;00mfunc\u001B[38;5;241m.\u001B[39m\u001B[38;5;18m__qualname__\u001B[39m\u001B[38;5;132;01m}\u001B[39;00m\u001B[38;5;124m must be\u001B[39m\u001B[38;5;124m\"\u001B[39m,\n\u001B[0;32m    223\u001B[0m         \u001B[38;5;28mstr\u001B[39m(e),\n\u001B[0;32m    224\u001B[0m     )\n",
      "File \u001B[1;32m~\\miniconda3\\envs\\tf\\lib\\site-packages\\sklearn\\metrics\\_classification.py:1239\u001B[0m, in \u001B[0;36mf1_score\u001B[1;34m(y_true, y_pred, labels, pos_label, average, sample_weight, zero_division)\u001B[0m\n\u001B[0;32m   1070\u001B[0m \u001B[38;5;129m@validate_params\u001B[39m(\n\u001B[0;32m   1071\u001B[0m     {\n\u001B[0;32m   1072\u001B[0m         \u001B[38;5;124m\"\u001B[39m\u001B[38;5;124my_true\u001B[39m\u001B[38;5;124m\"\u001B[39m: [\u001B[38;5;124m\"\u001B[39m\u001B[38;5;124marray-like\u001B[39m\u001B[38;5;124m\"\u001B[39m, \u001B[38;5;124m\"\u001B[39m\u001B[38;5;124msparse matrix\u001B[39m\u001B[38;5;124m\"\u001B[39m],\n\u001B[1;32m   (...)\u001B[0m\n\u001B[0;32m   1097\u001B[0m     zero_division\u001B[38;5;241m=\u001B[39m\u001B[38;5;124m\"\u001B[39m\u001B[38;5;124mwarn\u001B[39m\u001B[38;5;124m\"\u001B[39m,\n\u001B[0;32m   1098\u001B[0m ):\n\u001B[0;32m   1099\u001B[0m \u001B[38;5;250m    \u001B[39m\u001B[38;5;124;03m\"\"\"Compute the F1 score, also known as balanced F-score or F-measure.\u001B[39;00m\n\u001B[0;32m   1100\u001B[0m \n\u001B[0;32m   1101\u001B[0m \u001B[38;5;124;03m    The F1 score can be interpreted as a harmonic mean of the precision and\u001B[39;00m\n\u001B[1;32m   (...)\u001B[0m\n\u001B[0;32m   1237\u001B[0m \u001B[38;5;124;03m    array([0.66666667, 1.        , 0.66666667])\u001B[39;00m\n\u001B[0;32m   1238\u001B[0m \u001B[38;5;124;03m    \"\"\"\u001B[39;00m\n\u001B[1;32m-> 1239\u001B[0m     \u001B[38;5;28;01mreturn\u001B[39;00m \u001B[43mfbeta_score\u001B[49m\u001B[43m(\u001B[49m\n\u001B[0;32m   1240\u001B[0m \u001B[43m        \u001B[49m\u001B[43my_true\u001B[49m\u001B[43m,\u001B[49m\n\u001B[0;32m   1241\u001B[0m \u001B[43m        \u001B[49m\u001B[43my_pred\u001B[49m\u001B[43m,\u001B[49m\n\u001B[0;32m   1242\u001B[0m \u001B[43m        \u001B[49m\u001B[43mbeta\u001B[49m\u001B[38;5;241;43m=\u001B[39;49m\u001B[38;5;241;43m1\u001B[39;49m\u001B[43m,\u001B[49m\n\u001B[0;32m   1243\u001B[0m \u001B[43m        \u001B[49m\u001B[43mlabels\u001B[49m\u001B[38;5;241;43m=\u001B[39;49m\u001B[43mlabels\u001B[49m\u001B[43m,\u001B[49m\n\u001B[0;32m   1244\u001B[0m \u001B[43m        \u001B[49m\u001B[43mpos_label\u001B[49m\u001B[38;5;241;43m=\u001B[39;49m\u001B[43mpos_label\u001B[49m\u001B[43m,\u001B[49m\n\u001B[0;32m   1245\u001B[0m \u001B[43m        \u001B[49m\u001B[43maverage\u001B[49m\u001B[38;5;241;43m=\u001B[39;49m\u001B[43maverage\u001B[49m\u001B[43m,\u001B[49m\n\u001B[0;32m   1246\u001B[0m \u001B[43m        \u001B[49m\u001B[43msample_weight\u001B[49m\u001B[38;5;241;43m=\u001B[39;49m\u001B[43msample_weight\u001B[49m\u001B[43m,\u001B[49m\n\u001B[0;32m   1247\u001B[0m \u001B[43m        \u001B[49m\u001B[43mzero_division\u001B[49m\u001B[38;5;241;43m=\u001B[39;49m\u001B[43mzero_division\u001B[49m\u001B[43m,\u001B[49m\n\u001B[0;32m   1248\u001B[0m \u001B[43m    \u001B[49m\u001B[43m)\u001B[49m\n",
      "File \u001B[1;32m~\\miniconda3\\envs\\tf\\lib\\site-packages\\sklearn\\utils\\_param_validation.py:187\u001B[0m, in \u001B[0;36mvalidate_params.<locals>.decorator.<locals>.wrapper\u001B[1;34m(*args, **kwargs)\u001B[0m\n\u001B[0;32m    185\u001B[0m global_skip_validation \u001B[38;5;241m=\u001B[39m get_config()[\u001B[38;5;124m\"\u001B[39m\u001B[38;5;124mskip_parameter_validation\u001B[39m\u001B[38;5;124m\"\u001B[39m]\n\u001B[0;32m    186\u001B[0m \u001B[38;5;28;01mif\u001B[39;00m global_skip_validation:\n\u001B[1;32m--> 187\u001B[0m     \u001B[38;5;28;01mreturn\u001B[39;00m func(\u001B[38;5;241m*\u001B[39margs, \u001B[38;5;241m*\u001B[39m\u001B[38;5;241m*\u001B[39mkwargs)\n\u001B[0;32m    189\u001B[0m func_sig \u001B[38;5;241m=\u001B[39m signature(func)\n\u001B[0;32m    191\u001B[0m \u001B[38;5;66;03m# Map *args/**kwargs to the function signature\u001B[39;00m\n",
      "File \u001B[1;32m~\\miniconda3\\envs\\tf\\lib\\site-packages\\sklearn\\metrics\\_classification.py:1413\u001B[0m, in \u001B[0;36mfbeta_score\u001B[1;34m(y_true, y_pred, beta, labels, pos_label, average, sample_weight, zero_division)\u001B[0m\n\u001B[0;32m   1251\u001B[0m \u001B[38;5;129m@validate_params\u001B[39m(\n\u001B[0;32m   1252\u001B[0m     {\n\u001B[0;32m   1253\u001B[0m         \u001B[38;5;124m\"\u001B[39m\u001B[38;5;124my_true\u001B[39m\u001B[38;5;124m\"\u001B[39m: [\u001B[38;5;124m\"\u001B[39m\u001B[38;5;124marray-like\u001B[39m\u001B[38;5;124m\"\u001B[39m, \u001B[38;5;124m\"\u001B[39m\u001B[38;5;124msparse matrix\u001B[39m\u001B[38;5;124m\"\u001B[39m],\n\u001B[1;32m   (...)\u001B[0m\n\u001B[0;32m   1280\u001B[0m     zero_division\u001B[38;5;241m=\u001B[39m\u001B[38;5;124m\"\u001B[39m\u001B[38;5;124mwarn\u001B[39m\u001B[38;5;124m\"\u001B[39m,\n\u001B[0;32m   1281\u001B[0m ):\n\u001B[0;32m   1282\u001B[0m \u001B[38;5;250m    \u001B[39m\u001B[38;5;124;03m\"\"\"Compute the F-beta score.\u001B[39;00m\n\u001B[0;32m   1283\u001B[0m \n\u001B[0;32m   1284\u001B[0m \u001B[38;5;124;03m    The F-beta score is the weighted harmonic mean of precision and recall,\u001B[39;00m\n\u001B[1;32m   (...)\u001B[0m\n\u001B[0;32m   1410\u001B[0m \u001B[38;5;124;03m    0.38...\u001B[39;00m\n\u001B[0;32m   1411\u001B[0m \u001B[38;5;124;03m    \"\"\"\u001B[39;00m\n\u001B[1;32m-> 1413\u001B[0m     _, _, f, _ \u001B[38;5;241m=\u001B[39m \u001B[43mprecision_recall_fscore_support\u001B[49m\u001B[43m(\u001B[49m\n\u001B[0;32m   1414\u001B[0m \u001B[43m        \u001B[49m\u001B[43my_true\u001B[49m\u001B[43m,\u001B[49m\n\u001B[0;32m   1415\u001B[0m \u001B[43m        \u001B[49m\u001B[43my_pred\u001B[49m\u001B[43m,\u001B[49m\n\u001B[0;32m   1416\u001B[0m \u001B[43m        \u001B[49m\u001B[43mbeta\u001B[49m\u001B[38;5;241;43m=\u001B[39;49m\u001B[43mbeta\u001B[49m\u001B[43m,\u001B[49m\n\u001B[0;32m   1417\u001B[0m \u001B[43m        \u001B[49m\u001B[43mlabels\u001B[49m\u001B[38;5;241;43m=\u001B[39;49m\u001B[43mlabels\u001B[49m\u001B[43m,\u001B[49m\n\u001B[0;32m   1418\u001B[0m \u001B[43m        \u001B[49m\u001B[43mpos_label\u001B[49m\u001B[38;5;241;43m=\u001B[39;49m\u001B[43mpos_label\u001B[49m\u001B[43m,\u001B[49m\n\u001B[0;32m   1419\u001B[0m \u001B[43m        \u001B[49m\u001B[43maverage\u001B[49m\u001B[38;5;241;43m=\u001B[39;49m\u001B[43maverage\u001B[49m\u001B[43m,\u001B[49m\n\u001B[0;32m   1420\u001B[0m \u001B[43m        \u001B[49m\u001B[43mwarn_for\u001B[49m\u001B[38;5;241;43m=\u001B[39;49m\u001B[43m(\u001B[49m\u001B[38;5;124;43m\"\u001B[39;49m\u001B[38;5;124;43mf-score\u001B[39;49m\u001B[38;5;124;43m\"\u001B[39;49m\u001B[43m,\u001B[49m\u001B[43m)\u001B[49m\u001B[43m,\u001B[49m\n\u001B[0;32m   1421\u001B[0m \u001B[43m        \u001B[49m\u001B[43msample_weight\u001B[49m\u001B[38;5;241;43m=\u001B[39;49m\u001B[43msample_weight\u001B[49m\u001B[43m,\u001B[49m\n\u001B[0;32m   1422\u001B[0m \u001B[43m        \u001B[49m\u001B[43mzero_division\u001B[49m\u001B[38;5;241;43m=\u001B[39;49m\u001B[43mzero_division\u001B[49m\u001B[43m,\u001B[49m\n\u001B[0;32m   1423\u001B[0m \u001B[43m    \u001B[49m\u001B[43m)\u001B[49m\n\u001B[0;32m   1424\u001B[0m     \u001B[38;5;28;01mreturn\u001B[39;00m f\n",
      "File \u001B[1;32m~\\miniconda3\\envs\\tf\\lib\\site-packages\\sklearn\\utils\\_param_validation.py:187\u001B[0m, in \u001B[0;36mvalidate_params.<locals>.decorator.<locals>.wrapper\u001B[1;34m(*args, **kwargs)\u001B[0m\n\u001B[0;32m    185\u001B[0m global_skip_validation \u001B[38;5;241m=\u001B[39m get_config()[\u001B[38;5;124m\"\u001B[39m\u001B[38;5;124mskip_parameter_validation\u001B[39m\u001B[38;5;124m\"\u001B[39m]\n\u001B[0;32m    186\u001B[0m \u001B[38;5;28;01mif\u001B[39;00m global_skip_validation:\n\u001B[1;32m--> 187\u001B[0m     \u001B[38;5;28;01mreturn\u001B[39;00m func(\u001B[38;5;241m*\u001B[39margs, \u001B[38;5;241m*\u001B[39m\u001B[38;5;241m*\u001B[39mkwargs)\n\u001B[0;32m    189\u001B[0m func_sig \u001B[38;5;241m=\u001B[39m signature(func)\n\u001B[0;32m    191\u001B[0m \u001B[38;5;66;03m# Map *args/**kwargs to the function signature\u001B[39;00m\n",
      "File \u001B[1;32m~\\miniconda3\\envs\\tf\\lib\\site-packages\\sklearn\\metrics\\_classification.py:1724\u001B[0m, in \u001B[0;36mprecision_recall_fscore_support\u001B[1;34m(y_true, y_pred, beta, labels, pos_label, average, warn_for, sample_weight, zero_division)\u001B[0m\n\u001B[0;32m   1566\u001B[0m \u001B[38;5;250m\u001B[39m\u001B[38;5;124;03m\"\"\"Compute precision, recall, F-measure and support for each class.\u001B[39;00m\n\u001B[0;32m   1567\u001B[0m \n\u001B[0;32m   1568\u001B[0m \u001B[38;5;124;03mThe precision is the ratio ``tp / (tp + fp)`` where ``tp`` is the number of\u001B[39;00m\n\u001B[1;32m   (...)\u001B[0m\n\u001B[0;32m   1721\u001B[0m \u001B[38;5;124;03m array([2, 2, 2]))\u001B[39;00m\n\u001B[0;32m   1722\u001B[0m \u001B[38;5;124;03m\"\"\"\u001B[39;00m\n\u001B[0;32m   1723\u001B[0m zero_division_value \u001B[38;5;241m=\u001B[39m _check_zero_division(zero_division)\n\u001B[1;32m-> 1724\u001B[0m labels \u001B[38;5;241m=\u001B[39m \u001B[43m_check_set_wise_labels\u001B[49m\u001B[43m(\u001B[49m\u001B[43my_true\u001B[49m\u001B[43m,\u001B[49m\u001B[43m \u001B[49m\u001B[43my_pred\u001B[49m\u001B[43m,\u001B[49m\u001B[43m \u001B[49m\u001B[43maverage\u001B[49m\u001B[43m,\u001B[49m\u001B[43m \u001B[49m\u001B[43mlabels\u001B[49m\u001B[43m,\u001B[49m\u001B[43m \u001B[49m\u001B[43mpos_label\u001B[49m\u001B[43m)\u001B[49m\n\u001B[0;32m   1726\u001B[0m \u001B[38;5;66;03m# Calculate tp_sum, pred_sum, true_sum ###\u001B[39;00m\n\u001B[0;32m   1727\u001B[0m samplewise \u001B[38;5;241m=\u001B[39m average \u001B[38;5;241m==\u001B[39m \u001B[38;5;124m\"\u001B[39m\u001B[38;5;124msamples\u001B[39m\u001B[38;5;124m\"\u001B[39m\n",
      "File \u001B[1;32m~\\miniconda3\\envs\\tf\\lib\\site-packages\\sklearn\\metrics\\_classification.py:1501\u001B[0m, in \u001B[0;36m_check_set_wise_labels\u001B[1;34m(y_true, y_pred, average, labels, pos_label)\u001B[0m\n\u001B[0;32m   1498\u001B[0m \u001B[38;5;28;01mif\u001B[39;00m average \u001B[38;5;129;01mnot\u001B[39;00m \u001B[38;5;129;01min\u001B[39;00m average_options \u001B[38;5;129;01mand\u001B[39;00m average \u001B[38;5;241m!=\u001B[39m \u001B[38;5;124m\"\u001B[39m\u001B[38;5;124mbinary\u001B[39m\u001B[38;5;124m\"\u001B[39m:\n\u001B[0;32m   1499\u001B[0m     \u001B[38;5;28;01mraise\u001B[39;00m \u001B[38;5;167;01mValueError\u001B[39;00m(\u001B[38;5;124m\"\u001B[39m\u001B[38;5;124maverage has to be one of \u001B[39m\u001B[38;5;124m\"\u001B[39m \u001B[38;5;241m+\u001B[39m \u001B[38;5;28mstr\u001B[39m(average_options))\n\u001B[1;32m-> 1501\u001B[0m y_type, y_true, y_pred \u001B[38;5;241m=\u001B[39m \u001B[43m_check_targets\u001B[49m\u001B[43m(\u001B[49m\u001B[43my_true\u001B[49m\u001B[43m,\u001B[49m\u001B[43m \u001B[49m\u001B[43my_pred\u001B[49m\u001B[43m)\u001B[49m\n\u001B[0;32m   1502\u001B[0m \u001B[38;5;66;03m# Convert to Python primitive type to avoid NumPy type / Python str\u001B[39;00m\n\u001B[0;32m   1503\u001B[0m \u001B[38;5;66;03m# comparison. See https://github.com/numpy/numpy/issues/6784\u001B[39;00m\n\u001B[0;32m   1504\u001B[0m present_labels \u001B[38;5;241m=\u001B[39m unique_labels(y_true, y_pred)\u001B[38;5;241m.\u001B[39mtolist()\n",
      "File \u001B[1;32m~\\miniconda3\\envs\\tf\\lib\\site-packages\\sklearn\\metrics\\_classification.py:84\u001B[0m, in \u001B[0;36m_check_targets\u001B[1;34m(y_true, y_pred)\u001B[0m\n\u001B[0;32m     57\u001B[0m \u001B[38;5;28;01mdef\u001B[39;00m \u001B[38;5;21m_check_targets\u001B[39m(y_true, y_pred):\n\u001B[0;32m     58\u001B[0m \u001B[38;5;250m    \u001B[39m\u001B[38;5;124;03m\"\"\"Check that y_true and y_pred belong to the same classification task.\u001B[39;00m\n\u001B[0;32m     59\u001B[0m \n\u001B[0;32m     60\u001B[0m \u001B[38;5;124;03m    This converts multiclass or binary types to a common shape, and raises a\u001B[39;00m\n\u001B[1;32m   (...)\u001B[0m\n\u001B[0;32m     82\u001B[0m \u001B[38;5;124;03m    y_pred : array or indicator matrix\u001B[39;00m\n\u001B[0;32m     83\u001B[0m \u001B[38;5;124;03m    \"\"\"\u001B[39;00m\n\u001B[1;32m---> 84\u001B[0m     \u001B[43mcheck_consistent_length\u001B[49m\u001B[43m(\u001B[49m\u001B[43my_true\u001B[49m\u001B[43m,\u001B[49m\u001B[43m \u001B[49m\u001B[43my_pred\u001B[49m\u001B[43m)\u001B[49m\n\u001B[0;32m     85\u001B[0m     type_true \u001B[38;5;241m=\u001B[39m type_of_target(y_true, input_name\u001B[38;5;241m=\u001B[39m\u001B[38;5;124m\"\u001B[39m\u001B[38;5;124my_true\u001B[39m\u001B[38;5;124m\"\u001B[39m)\n\u001B[0;32m     86\u001B[0m     type_pred \u001B[38;5;241m=\u001B[39m type_of_target(y_pred, input_name\u001B[38;5;241m=\u001B[39m\u001B[38;5;124m\"\u001B[39m\u001B[38;5;124my_pred\u001B[39m\u001B[38;5;124m\"\u001B[39m)\n",
      "File \u001B[1;32m~\\miniconda3\\envs\\tf\\lib\\site-packages\\sklearn\\utils\\validation.py:407\u001B[0m, in \u001B[0;36mcheck_consistent_length\u001B[1;34m(*arrays)\u001B[0m\n\u001B[0;32m    405\u001B[0m uniques \u001B[38;5;241m=\u001B[39m np\u001B[38;5;241m.\u001B[39munique(lengths)\n\u001B[0;32m    406\u001B[0m \u001B[38;5;28;01mif\u001B[39;00m \u001B[38;5;28mlen\u001B[39m(uniques) \u001B[38;5;241m>\u001B[39m \u001B[38;5;241m1\u001B[39m:\n\u001B[1;32m--> 407\u001B[0m     \u001B[38;5;28;01mraise\u001B[39;00m \u001B[38;5;167;01mValueError\u001B[39;00m(\n\u001B[0;32m    408\u001B[0m         \u001B[38;5;124m\"\u001B[39m\u001B[38;5;124mFound input variables with inconsistent numbers of samples: \u001B[39m\u001B[38;5;132;01m%r\u001B[39;00m\u001B[38;5;124m\"\u001B[39m\n\u001B[0;32m    409\u001B[0m         \u001B[38;5;241m%\u001B[39m [\u001B[38;5;28mint\u001B[39m(l) \u001B[38;5;28;01mfor\u001B[39;00m l \u001B[38;5;129;01min\u001B[39;00m lengths]\n\u001B[0;32m    410\u001B[0m     )\n",
      "\u001B[1;31mValueError\u001B[0m: Found input variables with inconsistent numbers of samples: [41792, 19362]"
     ]
    }
   ],
   "execution_count": 56
  },
  {
   "metadata": {
    "ExecuteTime": {
     "end_time": "2025-01-15T15:57:38.004555Z",
     "start_time": "2025-01-15T15:57:36.418654Z"
    }
   },
   "cell_type": "code",
   "source": [
    "import joblib\n",
    "from sklearn.metrics import classification_report, f1_score, confusion_matrix, ConfusionMatrixDisplay\n",
    "import matplotlib.pyplot as plt\n",
    "import pandas as pd\n",
    "from sklearn.preprocessing import StandardScaler\n",
    "\n",
    "# Load the saved model\n",
    "model_path = \"new_mlp_model_with_smote.joblib\"  # Change this to the correct path of your model\n",
    "mlp_model = joblib.load(model_path)\n",
    "print(f\"Loaded model from '{model_path}'\")\n",
    "\n",
    "# Standardize the features\n",
    "scaler = StandardScaler()\n",
    "X_test_scaled = scaler.fit_transform(X_test)  # Ensure the test data is standardized\n",
    "\n",
    "# Make predictions on the test data\n",
    "y_pred = mlp_model.predict(X_test_original)\n",
    "\n",
    "# Compute the F1 Score\n",
    "f1 = f1_score(y_test, y_pred, average=\"weighted\")\n",
    "print(f\"F1 Score (Weighted): {f1:.4f}\")\n",
    "\n",
    "# Print the classification report\n",
    "print(\"Classification Report:\")\n",
    "print(classification_report(y_test, y_pred))\n",
    "\n",
    "# Plot the confusion matrix\n",
    "cm = confusion_matrix(y_test, y_pred)\n",
    "disp = ConfusionMatrixDisplay(confusion_matrix=cm, display_labels=mlp_model.classes_)\n",
    "disp.plot(cmap=plt.cm.Blues)\n",
    "plt.title(\"Confusion Matrix\")\n",
    "plt.show()\n",
    "\n",
    "# Optional: Save the predictions to a CSV file\n",
    "predictions = pd.DataFrame({\"Actual\": y_test, \"Predicted\": y_pred})\n",
    "predictions.to_csv(\"2_model.csv\", index=False)\n",
    "print(\"Predictions saved to 'predictions_from_saved_model.csv'\")\n"
   ],
   "id": "50d22f00119b8fcb",
   "outputs": [
    {
     "name": "stdout",
     "output_type": "stream",
     "text": [
      "Loaded model from 'new_mlp_model_with_smote.joblib'\n",
      "F1 Score (Weighted): 0.8979\n",
      "Classification Report:\n",
      "              precision    recall  f1-score   support\n",
      "\n",
      "           0       0.99      0.84      0.91     19092\n",
      "           1       0.03      0.30      0.05       270\n",
      "\n",
      "    accuracy                           0.84     19362\n",
      "   macro avg       0.51      0.57      0.48     19362\n",
      "weighted avg       0.97      0.84      0.90     19362\n",
      "\n"
     ]
    },
    {
     "data": {
      "text/plain": [
       "<Figure size 640x480 with 2 Axes>"
      ],
      "image/png": "[encoded data removed]"
     },
     "metadata": {},
     "output_type": "display_data"
    },
    {
     "name": "stdout",
     "output_type": "stream",
     "text": [
      "Predictions saved to 'predictions_from_saved_model.csv'\n"
     ]
    }
   ],
   "execution_count": 57
  },
  {
   "metadata": {
    "ExecuteTime": {
     "end_time": "2025-01-15T11:55:16.364819Z",
     "start_time": "2025-01-15T11:55:16.315049Z"
    }
   },
   "cell_type": "code",
   "source": [
    "import joblib\n",
    "from sklearn.metrics import classification_report, f1_score, confusion_matrix, ConfusionMatrixDisplay\n",
    "import matplotlib.pyplot as plt\n",
    "import pandas as pd\n",
    "from sklearn.preprocessing import StandardScaler\n",
    "\n",
    "# Load the saved model\n",
    "model_path = \"best_mlp_model.joblib\"  # Change this to the correct path of your model\n",
    "mlp_model = joblib.load(model_path)\n",
    "print(f\"Loaded model from '{model_path}'\")\n",
    "\n",
    "# Standardize the features\n",
    "scaler = StandardScaler()\n",
    "X_test_scaled = scaler.fit_transform(X_test)  # Ensure the test data is standardized\n",
    "\n",
    "# Make predictions on the test data\n",
    "y_pred = mlp_model.predict(X_test_scaled)\n",
    "\n",
    "# Compute the F1 Score\n",
    "f1 = f1_score(y_test, y_pred, average=\"weighted\")\n",
    "print(f\"F1 Score (Weighted): {f1:.4f}\")\n",
    "\n",
    "# Print the classification report\n",
    "print(\"Classification Report:\")\n",
    "print(classification_report(y_test, y_pred))\n",
    "\n",
    "# Plot the confusion matrix\n",
    "cm = confusion_matrix(y_test, y_pred)\n",
    "disp = ConfusionMatrixDisplay(confusion_matrix=cm, display_labels=mlp_model.classes_)\n",
    "disp.plot(cmap=plt.cm.Blues)\n",
    "plt.title(\"Confusion Matrix\")\n",
    "plt.show()\n",
    "\n",
    "# Optional: Save the predictions to a CSV file\n",
    "predictions = pd.DataFrame({\"Actual\": y_test, \"Predicted\": y_pred})\n",
    "predictions.to_csv(\"3_model.csv\", index=False)\n",
    "print(\"Predictions saved to 'predictions_from_saved_model.csv'\")\n"
   ],
   "id": "b068fbfb0f261a7a",
   "outputs": [
    {
     "ename": "AttributeError",
     "evalue": "Can't get attribute 'IterationTrackingMLPClassifier' on <module '__main__'>",
     "output_type": "error",
     "traceback": [
      "\u001B[1;31m---------------------------------------------------------------------------\u001B[0m",
      "\u001B[1;31mAttributeError\u001B[0m                            Traceback (most recent call last)",
      "Cell \u001B[1;32mIn[15], line 9\u001B[0m\n\u001B[0;32m      7\u001B[0m \u001B[38;5;66;03m# Load the saved model\u001B[39;00m\n\u001B[0;32m      8\u001B[0m model_path \u001B[38;5;241m=\u001B[39m \u001B[38;5;124m\"\u001B[39m\u001B[38;5;124mbest_mlp_model.joblib\u001B[39m\u001B[38;5;124m\"\u001B[39m  \u001B[38;5;66;03m# Change this to the correct path of your model\u001B[39;00m\n\u001B[1;32m----> 9\u001B[0m mlp_model \u001B[38;5;241m=\u001B[39m \u001B[43mjoblib\u001B[49m\u001B[38;5;241;43m.\u001B[39;49m\u001B[43mload\u001B[49m\u001B[43m(\u001B[49m\u001B[43mmodel_path\u001B[49m\u001B[43m)\u001B[49m\n\u001B[0;32m     10\u001B[0m \u001B[38;5;28mprint\u001B[39m(\u001B[38;5;124mf\u001B[39m\u001B[38;5;124m\"\u001B[39m\u001B[38;5;124mLoaded model from \u001B[39m\u001B[38;5;124m'\u001B[39m\u001B[38;5;132;01m{\u001B[39;00mmodel_path\u001B[38;5;132;01m}\u001B[39;00m\u001B[38;5;124m'\u001B[39m\u001B[38;5;124m\"\u001B[39m)\n\u001B[0;32m     12\u001B[0m \u001B[38;5;66;03m# Standardize the features\u001B[39;00m\n",
      "File \u001B[1;32m~\\miniconda3\\envs\\tf\\lib\\site-packages\\joblib\\numpy_pickle.py:658\u001B[0m, in \u001B[0;36mload\u001B[1;34m(filename, mmap_mode)\u001B[0m\n\u001B[0;32m    652\u001B[0m             \u001B[38;5;28;01mif\u001B[39;00m \u001B[38;5;28misinstance\u001B[39m(fobj, \u001B[38;5;28mstr\u001B[39m):\n\u001B[0;32m    653\u001B[0m                 \u001B[38;5;66;03m# if the returned file object is a string, this means we\u001B[39;00m\n\u001B[0;32m    654\u001B[0m                 \u001B[38;5;66;03m# try to load a pickle file generated with an version of\u001B[39;00m\n\u001B[0;32m    655\u001B[0m                 \u001B[38;5;66;03m# Joblib so we load it with joblib compatibility function.\u001B[39;00m\n\u001B[0;32m    656\u001B[0m                 \u001B[38;5;28;01mreturn\u001B[39;00m load_compatibility(fobj)\n\u001B[1;32m--> 658\u001B[0m             obj \u001B[38;5;241m=\u001B[39m \u001B[43m_unpickle\u001B[49m\u001B[43m(\u001B[49m\u001B[43mfobj\u001B[49m\u001B[43m,\u001B[49m\u001B[43m \u001B[49m\u001B[43mfilename\u001B[49m\u001B[43m,\u001B[49m\u001B[43m \u001B[49m\u001B[43mmmap_mode\u001B[49m\u001B[43m)\u001B[49m\n\u001B[0;32m    659\u001B[0m \u001B[38;5;28;01mreturn\u001B[39;00m obj\n",
      "File \u001B[1;32m~\\miniconda3\\envs\\tf\\lib\\site-packages\\joblib\\numpy_pickle.py:577\u001B[0m, in \u001B[0;36m_unpickle\u001B[1;34m(fobj, filename, mmap_mode)\u001B[0m\n\u001B[0;32m    575\u001B[0m obj \u001B[38;5;241m=\u001B[39m \u001B[38;5;28;01mNone\u001B[39;00m\n\u001B[0;32m    576\u001B[0m \u001B[38;5;28;01mtry\u001B[39;00m:\n\u001B[1;32m--> 577\u001B[0m     obj \u001B[38;5;241m=\u001B[39m \u001B[43munpickler\u001B[49m\u001B[38;5;241;43m.\u001B[39;49m\u001B[43mload\u001B[49m\u001B[43m(\u001B[49m\u001B[43m)\u001B[49m\n\u001B[0;32m    578\u001B[0m     \u001B[38;5;28;01mif\u001B[39;00m unpickler\u001B[38;5;241m.\u001B[39mcompat_mode:\n\u001B[0;32m    579\u001B[0m         warnings\u001B[38;5;241m.\u001B[39mwarn(\u001B[38;5;124m\"\u001B[39m\u001B[38;5;124mThe file \u001B[39m\u001B[38;5;124m'\u001B[39m\u001B[38;5;132;01m%s\u001B[39;00m\u001B[38;5;124m'\u001B[39m\u001B[38;5;124m has been generated with a \u001B[39m\u001B[38;5;124m\"\u001B[39m\n\u001B[0;32m    580\u001B[0m                       \u001B[38;5;124m\"\u001B[39m\u001B[38;5;124mjoblib version less than 0.10. \u001B[39m\u001B[38;5;124m\"\u001B[39m\n\u001B[0;32m    581\u001B[0m                       \u001B[38;5;124m\"\u001B[39m\u001B[38;5;124mPlease regenerate this pickle file.\u001B[39m\u001B[38;5;124m\"\u001B[39m\n\u001B[0;32m    582\u001B[0m                       \u001B[38;5;241m%\u001B[39m filename,\n\u001B[0;32m    583\u001B[0m                       \u001B[38;5;167;01mDeprecationWarning\u001B[39;00m, stacklevel\u001B[38;5;241m=\u001B[39m\u001B[38;5;241m3\u001B[39m)\n",
      "File \u001B[1;32m~\\miniconda3\\envs\\tf\\lib\\pickle.py:1212\u001B[0m, in \u001B[0;36m_Unpickler.load\u001B[1;34m(self)\u001B[0m\n\u001B[0;32m   1210\u001B[0m             \u001B[38;5;28;01mraise\u001B[39;00m \u001B[38;5;167;01mEOFError\u001B[39;00m\n\u001B[0;32m   1211\u001B[0m         \u001B[38;5;28;01massert\u001B[39;00m \u001B[38;5;28misinstance\u001B[39m(key, bytes_types)\n\u001B[1;32m-> 1212\u001B[0m         \u001B[43mdispatch\u001B[49m\u001B[43m[\u001B[49m\u001B[43mkey\u001B[49m\u001B[43m[\u001B[49m\u001B[38;5;241;43m0\u001B[39;49m\u001B[43m]\u001B[49m\u001B[43m]\u001B[49m\u001B[43m(\u001B[49m\u001B[38;5;28;43mself\u001B[39;49m\u001B[43m)\u001B[49m\n\u001B[0;32m   1213\u001B[0m \u001B[38;5;28;01mexcept\u001B[39;00m _Stop \u001B[38;5;28;01mas\u001B[39;00m stopinst:\n\u001B[0;32m   1214\u001B[0m     \u001B[38;5;28;01mreturn\u001B[39;00m stopinst\u001B[38;5;241m.\u001B[39mvalue\n",
      "File \u001B[1;32m~\\miniconda3\\envs\\tf\\lib\\pickle.py:1537\u001B[0m, in \u001B[0;36m_Unpickler.load_stack_global\u001B[1;34m(self)\u001B[0m\n\u001B[0;32m   1535\u001B[0m \u001B[38;5;28;01mif\u001B[39;00m \u001B[38;5;28mtype\u001B[39m(name) \u001B[38;5;129;01mis\u001B[39;00m \u001B[38;5;129;01mnot\u001B[39;00m \u001B[38;5;28mstr\u001B[39m \u001B[38;5;129;01mor\u001B[39;00m \u001B[38;5;28mtype\u001B[39m(module) \u001B[38;5;129;01mis\u001B[39;00m \u001B[38;5;129;01mnot\u001B[39;00m \u001B[38;5;28mstr\u001B[39m:\n\u001B[0;32m   1536\u001B[0m     \u001B[38;5;28;01mraise\u001B[39;00m UnpicklingError(\u001B[38;5;124m\"\u001B[39m\u001B[38;5;124mSTACK_GLOBAL requires str\u001B[39m\u001B[38;5;124m\"\u001B[39m)\n\u001B[1;32m-> 1537\u001B[0m \u001B[38;5;28mself\u001B[39m\u001B[38;5;241m.\u001B[39mappend(\u001B[38;5;28;43mself\u001B[39;49m\u001B[38;5;241;43m.\u001B[39;49m\u001B[43mfind_class\u001B[49m\u001B[43m(\u001B[49m\u001B[43mmodule\u001B[49m\u001B[43m,\u001B[49m\u001B[43m \u001B[49m\u001B[43mname\u001B[49m\u001B[43m)\u001B[49m)\n",
      "File \u001B[1;32m~\\miniconda3\\envs\\tf\\lib\\pickle.py:1581\u001B[0m, in \u001B[0;36m_Unpickler.find_class\u001B[1;34m(self, module, name)\u001B[0m\n\u001B[0;32m   1579\u001B[0m \u001B[38;5;28m__import__\u001B[39m(module, level\u001B[38;5;241m=\u001B[39m\u001B[38;5;241m0\u001B[39m)\n\u001B[0;32m   1580\u001B[0m \u001B[38;5;28;01mif\u001B[39;00m \u001B[38;5;28mself\u001B[39m\u001B[38;5;241m.\u001B[39mproto \u001B[38;5;241m>\u001B[39m\u001B[38;5;241m=\u001B[39m \u001B[38;5;241m4\u001B[39m:\n\u001B[1;32m-> 1581\u001B[0m     \u001B[38;5;28;01mreturn\u001B[39;00m \u001B[43m_getattribute\u001B[49m\u001B[43m(\u001B[49m\u001B[43msys\u001B[49m\u001B[38;5;241;43m.\u001B[39;49m\u001B[43mmodules\u001B[49m\u001B[43m[\u001B[49m\u001B[43mmodule\u001B[49m\u001B[43m]\u001B[49m\u001B[43m,\u001B[49m\u001B[43m \u001B[49m\u001B[43mname\u001B[49m\u001B[43m)\u001B[49m[\u001B[38;5;241m0\u001B[39m]\n\u001B[0;32m   1582\u001B[0m \u001B[38;5;28;01melse\u001B[39;00m:\n\u001B[0;32m   1583\u001B[0m     \u001B[38;5;28;01mreturn\u001B[39;00m \u001B[38;5;28mgetattr\u001B[39m(sys\u001B[38;5;241m.\u001B[39mmodules[module], name)\n",
      "File \u001B[1;32m~\\miniconda3\\envs\\tf\\lib\\pickle.py:331\u001B[0m, in \u001B[0;36m_getattribute\u001B[1;34m(obj, name)\u001B[0m\n\u001B[0;32m    329\u001B[0m         obj \u001B[38;5;241m=\u001B[39m \u001B[38;5;28mgetattr\u001B[39m(obj, subpath)\n\u001B[0;32m    330\u001B[0m     \u001B[38;5;28;01mexcept\u001B[39;00m \u001B[38;5;167;01mAttributeError\u001B[39;00m:\n\u001B[1;32m--> 331\u001B[0m         \u001B[38;5;28;01mraise\u001B[39;00m \u001B[38;5;167;01mAttributeError\u001B[39;00m(\u001B[38;5;124m\"\u001B[39m\u001B[38;5;124mCan\u001B[39m\u001B[38;5;124m'\u001B[39m\u001B[38;5;124mt get attribute \u001B[39m\u001B[38;5;132;01m{!r}\u001B[39;00m\u001B[38;5;124m on \u001B[39m\u001B[38;5;132;01m{!r}\u001B[39;00m\u001B[38;5;124m\"\u001B[39m\n\u001B[0;32m    332\u001B[0m                              \u001B[38;5;241m.\u001B[39mformat(name, obj)) \u001B[38;5;28;01mfrom\u001B[39;00m \u001B[38;5;28;01mNone\u001B[39;00m\n\u001B[0;32m    333\u001B[0m \u001B[38;5;28;01mreturn\u001B[39;00m obj, parent\n",
      "\u001B[1;31mAttributeError\u001B[0m: Can't get attribute 'IterationTrackingMLPClassifier' on <module '__main__'>"
     ]
    }
   ],
   "execution_count": 15
  },
  {
   "metadata": {
    "ExecuteTime": {
     "end_time": "2025-01-15T12:01:16.178937Z",
     "start_time": "2025-01-15T12:01:15.298682Z"
    }
   },
   "cell_type": "code",
   "source": [
    "import joblib\n",
    "from sklearn.metrics import classification_report, f1_score, confusion_matrix, ConfusionMatrixDisplay\n",
    "import matplotlib.pyplot as plt\n",
    "import pandas as pd\n",
    "from sklearn.preprocessing import StandardScaler\n",
    "from sklearn.neural_network import MLPClassifier\n",
    "from imblearn.over_sampling import SMOTE\n",
    "\n",
    "# Custom class definition\n",
    "class IterationTrackingMLPClassifier(MLPClassifier):\n",
    "    def _fit(self, X, y, incremental=False):\n",
    "        \"\"\"Override the _fit method to track iterations.\"\"\"\n",
    "        n_iter = 0\n",
    "        max_iter = self.max_iter\n",
    "\n",
    "        while n_iter < max_iter:\n",
    "            super()._fit(X, y, incremental=incremental)\n",
    "            n_iter += 1\n",
    "            print(f\"   Iteration {n_iter}/{max_iter} completed.\")\n",
    "\n",
    "        return self\n",
    "\n",
    "# Load the saved model (make sure the custom class is defined before loading the model)\n",
    "model_path = \"best_mlp_model.joblib\"  # Change this to the correct path of your model\n",
    "mlp_model = joblib.load(model_path)\n",
    "print(f\"Loaded model from '{model_path}'\")\n",
    "\n",
    "# Standardize the features (assuming X_test is already defined)\n",
    "scaler = StandardScaler()\n",
    "X_test_scaled = scaler.fit_transform(X_test)\n",
    "\n",
    "# Make predictions on the test data\n",
    "y_pred = mlp_model.predict(X_test_scaled)\n",
    "\n",
    "# Compute the F1 Score\n",
    "f1 = f1_score(y_test, y_pred, average=\"weighted\")\n",
    "print(f\"F1 Score (Weighted): {f1:.4f}\")\n",
    "\n",
    "# Print the classification report\n",
    "print(\"Classification Report:\")\n",
    "print(classification_report(y_test, y_pred))\n",
    "\n",
    "# Plot the confusion matrix\n",
    "cm = confusion_matrix(y_test, y_pred)\n",
    "disp = ConfusionMatrixDisplay(confusion_matrix=cm, display_labels=mlp_model.classes_)\n",
    "disp.plot(cmap=plt.cm.Blues)\n",
    "plt.title(\"Confusion Matrix\")\n",
    "plt.show()\n",
    "\n",
    "# Optional: Save the predictions to a CSV file\n",
    "predictions = pd.DataFrame({\"Actual\": y_test, \"Predicted\": y_pred})\n",
    "predictions.to_csv(\"3_model.csv\", index=False)\n",
    "print(\"Predictions saved to '3_model.csv'\")\n"
   ],
   "id": "ec2bc2545c0f797f",
   "outputs": [
    {
     "name": "stderr",
     "output_type": "stream",
     "text": [
      "C:\\Users\\Tejas Tyagi\\miniconda3\\envs\\tf\\lib\\site-packages\\sklearn\\base.py:348: InconsistentVersionWarning: Trying to unpickle estimator LabelBinarizer from version 1.6.0 when using version 1.3.2. This might lead to breaking code or invalid results. Use at your own risk. For more info please refer to:\n",
      "https://scikit-learn.org/stable/model_persistence.html#security-maintainability-limitations\n",
      "  warnings.warn(\n"
     ]
    },
    {
     "name": "stdout",
     "output_type": "stream",
     "text": [
      "Loaded model from 'best_mlp_model.joblib'\n",
      "F1 Score (Weighted): 0.9219\n",
      "Classification Report:\n",
      "              precision    recall  f1-score   support\n",
      "\n",
      "           0       0.99      0.89      0.93     19092\n",
      "           1       0.02      0.19      0.04       270\n",
      "\n",
      "    accuracy                           0.88     19362\n",
      "   macro avg       0.51      0.54      0.49     19362\n",
      "weighted avg       0.97      0.88      0.92     19362\n",
      "\n"
     ]
    },
    {
     "data": {
      "text/plain": [
       "<Figure size 640x480 with 2 Axes>"
      ],
      "image/png": "[encoded data removed]"
     },
     "metadata": {},
     "output_type": "display_data"
    },
    {
     "name": "stdout",
     "output_type": "stream",
     "text": [
      "Predictions saved to '3_model.csv'\n"
     ]
    }
   ],
   "execution_count": 16
  },
  {
   "metadata": {
    "ExecuteTime": {
     "end_time": "2025-01-15T13:11:34.715013Z",
     "start_time": "2025-01-15T13:11:34.689977Z"
    }
   },
   "cell_type": "code",
   "source": [
    "model_path = \"MLP_model.pkl\"  # Change this to the correct path of your model\n",
    "mlp_model = joblib.load(model_path)\n",
    "print(f\"Loaded model from '{model_path}'\")"
   ],
   "id": "96d583c83c68fc71",
   "outputs": [
    {
     "name": "stdout",
     "output_type": "stream",
     "text": [
      "Loaded model from 'MLP_model.pkl'\n"
     ]
    }
   ],
   "execution_count": 29
  },
  {
   "metadata": {
    "ExecuteTime": {
     "end_time": "2025-01-15T13:21:59.057161Z",
     "start_time": "2025-01-15T13:21:48.702992Z"
    }
   },
   "cell_type": "code",
   "source": [
    "import pandas as pd\n",
    "from sklearn.model_selection import train_test_split\n",
    "from sklearn.preprocessing import StandardScaler\n",
    "\n",
    "# Step 1: Load the dataset\n",
    "data = pd.read_csv(\"Dev_data_to_be_shared.csv\")\n",
    "\n",
    "# Step 2: Separate features (X) and target variable (y)\n",
    "X = data.drop(columns=[\"bad_flag\", \"account_number\"])  # Features\n",
    "y = data[\"bad_flag\"]  # Target variable\n",
    "X.fillna(0, inplace=True)  # Handle missing values by filling with 0\n",
    "\n",
    "# Step 3: Train-Test Split\n",
    "X_train, X_test, y_train, y_test = train_test_split(X, y, test_size=0.2, random_state=42)\n",
    "\n",
    "# Step 4: Apply SMOTE-Tomek (optional)\n",
    "# smt = SMOTETomek(random_state=42)\n",
    "# X_train_resampled, y_train_resampled = smt.fit_resample(X_train, y_train)\n",
    "\n",
    "# Step 5: Scale the features (use fit_transform on training data and transform on test data)\n",
    "scaler = StandardScaler()\n",
    "X_train_scaled = scaler.fit_transform(X_train)  # Fit and transform training data\n",
    "X_test_scaled = scaler.transform(X)        # Only transform test data\n",
    "\n",
    "# Print data shapes for verification\n",
    "print(f\"Training Set Shape (X_train): {X_train_scaled.shape}, (y_train): {y_train.shape}\")\n",
    "print(f\"Test Set Shape (X_test): {X_test_scaled.shape}, (y_test): {y_test.shape}\")\n"
   ],
   "id": "c2d841728f60866f",
   "outputs": [
    {
     "name": "stdout",
     "output_type": "stream",
     "text": [
      "Training Set Shape (X_train): (77444, 1214), (y_train): (77444,)\n",
      "Test Set Shape (X_test): (19362, 1214), (y_test): (19362,)\n"
     ]
    }
   ],
   "execution_count": 38
  },
  {
   "metadata": {
    "ExecuteTime": {
     "end_time": "2025-01-15T13:22:00.807949Z",
     "start_time": "2025-01-15T13:21:59.145891Z"
    }
   },
   "cell_type": "code",
   "source": "y_pred = mlp_model.predict(X)\n",
   "id": "4d29ed35a3906614",
   "outputs": [
    {
     "name": "stderr",
     "output_type": "stream",
     "text": [
      "C:\\Users\\Tejas Tyagi\\miniconda3\\envs\\tf\\lib\\site-packages\\sklearn\\base.py:458: UserWarning: X has feature names, but MLPClassifier was fitted without feature names\n",
      "  warnings.warn(\n"
     ]
    }
   ],
   "execution_count": 39
  },
  {
   "metadata": {
    "ExecuteTime": {
     "end_time": "2025-01-15T13:23:57.994690Z",
     "start_time": "2025-01-15T13:23:57.759361Z"
    }
   },
   "cell_type": "code",
   "source": [
    "# Compute the F1 Score\n",
    "f1 = f1_score(y, y_pred, average=\"weighted\")\n",
    "print(f\"F1 Score (Weighted): {f1:.4f}\")\n",
    "\n",
    "# Print the classification report\n",
    "print(\"Classification Report:\")\n",
    "print(classification_report(y, y_pred))\n",
    "\n",
    "# Plot the confusion matrix\n",
    "cm = confusion_matrix(y, y_pred)\n",
    "disp = ConfusionMatrixDisplay(confusion_matrix=cm, display_labels=mlp_model.classes_)\n",
    "disp.plot(cmap=plt.cm.Blues)\n",
    "plt.title(\"Confusion Matrix\")\n",
    "plt.show()\n",
    "\n",
    "# Optional: Save the predictions to a CSV file\n",
    "predictions = pd.DataFrame({\"Actual\": y, \"Predicted\": y_pred})\n",
    "predictions.to_csv(\"model.csv\", index=False)\n",
    "print(\"Predictions saved to 'predictions_from_saved_model.csv'\")"
   ],
   "id": "d22533d6ed5def4a",
   "outputs": [
    {
     "name": "stdout",
     "output_type": "stream",
     "text": [
      "F1 Score (Weighted): 0.9788\n",
      "Classification Report:\n",
      "              precision    recall  f1-score   support\n",
      "\n",
      "           0       0.99      1.00      0.99     95434\n",
      "           1       0.00      0.00      0.00      1372\n",
      "\n",
      "    accuracy                           0.99     96806\n",
      "   macro avg       0.49      0.50      0.50     96806\n",
      "weighted avg       0.97      0.99      0.98     96806\n",
      "\n"
     ]
    },
    {
     "data": {
      "text/plain": [
       "<Figure size 640x480 with 2 Axes>"
      ],
      "image/png": "[encoded data removed]"
     },
     "metadata": {},
     "output_type": "display_data"
    },
    {
     "name": "stdout",
     "output_type": "stream",
     "text": [
      "Predictions saved to 'predictions_from_saved_model.csv'\n"
     ]
    }
   ],
   "execution_count": 41
  },
  {
   "metadata": {
    "ExecuteTime": {
     "end_time": "2025-01-15T14:26:56.393311Z",
     "start_time": "2025-01-15T14:26:41.070899Z"
    }
   },
   "cell_type": "code",
   "source": [
    "import pandas as pd\n",
    "from sklearn.preprocessing import StandardScaler\n",
    "import joblib\n",
    "from sklearn.metrics import classification_report, f1_score, confusion_matrix, ConfusionMatrixDisplay\n",
    "import matplotlib.pyplot as plt\n",
    "\n",
    "# Step 1: Load the dataset\n",
    "data = pd.read_csv(\"Dev_data_to_be_shared.csv\")\n",
    "\n",
    "# Step 2: Separate features (X) and target variable (y)\n",
    "X = data.drop(columns=[\"bad_flag\", \"account_number\"])  # Features\n",
    "y = data[\"bad_flag\"]  # Target variable\n",
    "X.fillna(0, inplace=True)  # Handle missing values by filling with 0\n",
    "\n",
    "# Step 3: Load the trained model\n",
    "model_path = \"MLP_model.pkl\"  # Path to the saved model\n",
    "mlp_model = joblib.load(model_path)\n",
    "print(f\"Loaded model from '{model_path}'\")\n",
    "\n",
    "# Step 4: Scale the entire dataset using the same scaler that was used during training\n",
    "scaler = StandardScaler()\n",
    "X_scaled = scaler.fit_transform(X)  # Scale the entire dataset\n",
    "\n",
    "# Step 5: Make predictions on the entire dataset\n",
    "y_pred = mlp_model.predict(X_scaled)\n",
    "y_probs=mlp_model.predict_proba(X_scaled)\n",
    "\n",
    "# Step 6: Compute the F1 Score\n",
    "f1 = f1_score(y, y_pred, average=\"weighted\")\n",
    "print(f\"F1 Score (Weighted): {f1:.4f}\")\n",
    "\n",
    "# Step 7: Print the classification report\n",
    "print(\"Classification Report:\")\n",
    "print(classification_report(y, y_pred))\n",
    "\n",
    "# Step 8: Plot and display the confusion matrix\n",
    "cm = confusion_matrix(y, y_pred)\n",
    "disp = ConfusionMatrixDisplay(confusion_matrix=cm, display_labels=mlp_model.classes_)\n",
    "disp.plot(cmap=plt.cm.Blues)\n",
    "plt.title(\"Confusion Matrix\")\n",
    "plt.show()\n",
    "\n",
    "# Optional: Save the predictions to a CSV file\n",
    "predictions = pd.DataFrame({\"Actual\": y, \"Predicted\": y_pred,\"Probabilities\":y_probs[:,1]})\n",
    "predictions.to_csv(\"model_predictions.csv\", index=False)\n",
    "print(\"Predictions saved to 'model_predictions.csv'\")\n"
   ],
   "id": "cf70e47c9450673b",
   "outputs": [
    {
     "name": "stdout",
     "output_type": "stream",
     "text": [
      "Loaded model from 'MLP_model.pkl'\n",
      "F1 Score (Weighted): 0.9271\n",
      "Classification Report:\n",
      "              precision    recall  f1-score   support\n",
      "\n",
      "           0       1.00      0.88      0.94     95434\n",
      "           1       0.11      1.00      0.20      1372\n",
      "\n",
      "    accuracy                           0.88     96806\n",
      "   macro avg       0.55      0.94      0.57     96806\n",
      "weighted avg       0.99      0.88      0.93     96806\n",
      "\n"
     ]
    },
    {
     "data": {
      "text/plain": [
       "<Figure size 640x480 with 2 Axes>"
      ],
      "image/png": "[encoded data removed]"
     },
     "metadata": {},
     "output_type": "display_data"
    },
    {
     "name": "stdout",
     "output_type": "stream",
     "text": [
      "Predictions saved to 'model_predictions.csv'\n"
     ]
    }
   ],
   "execution_count": 47
  },
  {
   "metadata": {
    "ExecuteTime": {
     "end_time": "2025-01-15T13:26:07.587030Z",
     "start_time": "2025-01-15T13:26:06.050610Z"
    }
   },
   "cell_type": "code",
   "source": "y_probs=mlp_model.predict_proba(X_scaled)",
   "id": "7332aaea66664941",
   "outputs": [],
   "execution_count": 44
  },
  {
   "metadata": {
    "ExecuteTime": {
     "end_time": "2025-01-15T14:27:12.900017Z",
     "start_time": "2025-01-15T14:27:12.888387Z"
    }
   },
   "cell_type": "code",
   "source": "y_probs",
   "id": "2ce30afeb3db090b",
   "outputs": [
    {
     "data": {
      "text/plain": [
       "array([[1.00000000e+00, 2.38697336e-25],\n",
       "       [1.00000000e+00, 9.26150822e-53],\n",
       "       [8.01498688e-01, 1.98501312e-01],\n",
       "       ...,\n",
       "       [1.00000000e+00, 4.10417214e-15],\n",
       "       [9.99999152e-01, 8.47752721e-07],\n",
       "       [9.99996460e-01, 3.54038610e-06]])"
      ]
     },
     "execution_count": 49,
     "metadata": {},
     "output_type": "execute_result"
    }
   ],
   "execution_count": 49
  },
  {
   "metadata": {
    "ExecuteTime": {
     "end_time": "2025-01-15T14:50:40.254365Z",
     "start_time": "2025-01-15T14:50:33.385261Z"
    }
   },
   "cell_type": "code",
   "source": [
    "import pandas as pd\n",
    "from sklearn.preprocessing import StandardScaler\n",
    "import joblib\n",
    "from sklearn.metrics import classification_report, f1_score, confusion_matrix, ConfusionMatrixDisplay\n",
    "import matplotlib.pyplot as plt\n",
    "\n",
    "# Step 1: Load the dataset\n",
    "data = pd.read_csv(\"Dev_data_to_be_shared.csv\")\n",
    "\n",
    "# Step 2: Separate features (X) and target variable (y)\n",
    "X = data.drop(columns=[ \"bad_flag\",\"account_number\"])  # Features\n",
    "y = data[\"account_number\"]  # Target variable\n",
    "X.fillna(0, inplace=True)  # Handle missing values by filling with 0\n",
    "\n",
    "# Step 3: Load the trained model\n",
    "model_path = \"MLP_model.pkl\"  # Path to the saved model\n",
    "mlp_model = joblib.load(model_path)\n",
    "print(f\"Loaded model from '{model_path}'\")\n",
    "\n",
    "# Step 4: Scale the entire dataset using the same scaler that was used during training\n",
    "scaler = StandardScaler()\n",
    "X_scaled = scaler.fit_transform(X)  # Scale the entire dataset\n",
    "\n",
    "# Step 5: Make predictions on the entire dataset\n",
    "y_pred = mlp_model.predict(X_scaled)\n",
    "y_probs=mlp_model.predict_proba(X_scaled)\n",
    "\n",
    "# Step 6: Compute the F1 Score\n",
    "# f1 = f1_score(y, y_pred, average=\"weighted\")\n",
    "# print(f\"F1 Score (Weighted): {f1:.4f}\")\n",
    "\n",
    "# Step 7: Print the classification report\n",
    "# print(\"Classification Report:\")\n",
    "# print(classification_report(y, y_pred))\n",
    "\n",
    "# Step 8: Plot and display the confusion matrix\n",
    "# cm = confusion_matrix(y, y_pred)\n",
    "# disp = ConfusionMatrixDisplay(confusion_matrix=cm, display_labels=mlp_model.classes_)\n",
    "# disp.plot(cmap=plt.cm.Blues)\n",
    "# plt.title(\"Confusion Matrix\")\n",
    "# plt.show()\n",
    "\n",
    "# Optional: Save the predictions to a CSV file\n",
    "predictions = pd.DataFrame({\"\": y, \"Predicted\": y_pred,\"predicted probability \":y_probs[:,1]})\n",
    "predictions.to_csv(\"final_predictions.csv\", index=False)\n",
    "print(\"Predictions saved to 'final_predictions.csv'\")\n"
   ],
   "id": "49becd0692a05ac9",
   "outputs": [
    {
     "name": "stdout",
     "output_type": "stream",
     "text": [
      "Loaded model from 'MLP_model.pkl'\n",
      "Predictions saved to 'final_predictions.csv'\n"
     ]
    }
   ],
   "execution_count": 50
  },
  {
   "metadata": {
    "ExecuteTime": {
     "end_time": "2025-01-15T14:57:22.226478Z",
     "start_time": "2025-01-15T14:57:16.266557Z"
    }
   },
   "cell_type": "code",
   "source": [
    "import pandas as pd\n",
    "from sklearn.preprocessing import StandardScaler\n",
    "import joblib\n",
    "from sklearn.metrics import classification_report, f1_score, confusion_matrix, ConfusionMatrixDisplay\n",
    "import matplotlib.pyplot as plt\n",
    "import numpy as np\n",
    "\n",
    "# Step 1: Load the dataset\n",
    "data = pd.read_csv(\"validation_data_to_be_shared.csv\")\n",
    "\n",
    "# Step 2: Separate features (X) and target variable (y)\n",
    "X = data.drop(columns=[\"account_number\"])  # Features\n",
    "account_numbers = data[\"account_number\"]  # Save account numbers\n",
    "X.fillna(0, inplace=True)  # Handle missing values by filling with 0\n",
    "\n",
    "# Step 3: Load the trained model\n",
    "model_path = \"MLP_model.pkl\"  # Path to the saved model\n",
    "mlp_model = joblib.load(model_path)\n",
    "print(f\"Loaded model from '{model_path}'\")\n",
    "\n",
    "# Step 4: Scale the dataset using the same scaler that was used during training\n",
    "scaler = StandardScaler()\n",
    "X_scaled = scaler.fit_transform(X)  # Scale the entire dataset\n",
    "\n",
    "# Step 5: Make predictions on the entire dataset\n",
    "y_pred = mlp_model.predict(X_scaled)\n",
    "y_probs = mlp_model.predict_proba(X_scaled)[:, 1]  # Get probabilities for class 1 (default)\n",
    "\n",
    "# Step 6: Adjust probabilities to have a minimum value of 0.1\n",
    "y_probs_adjusted = np.where(y_probs < 0.01, 0.01, y_probs)\n",
    "\n",
    "# Step 7: Save the predictions to a CSV file\n",
    "predictions = pd.DataFrame({\n",
    "    \"account_number\": account_numbers, \n",
    "    # \"Predicted_Class\": y_pred, \n",
    "    \"Predicted_Probability\": y_probs_adjusted\n",
    "})\n",
    "predictions.to_csv(\"final_predictions.csv\", index=False)\n",
    "print(\"Predictions saved to 'final_predictions.csv'\")\n"
   ],
   "id": "b8122e82dc4c9999",
   "outputs": [
    {
     "name": "stdout",
     "output_type": "stream",
     "text": [
      "Loaded model from 'MLP_model.pkl'\n",
      "Predictions saved to 'final_predictions.csv'\n"
     ]
    }
   ],
   "execution_count": 53
  }
 ],
 "metadata": {
  "kernelspec": {
   "display_name": "Python 3",
   "name": "python3"
  },
  "language_info": {
   "codemirror_mode": {
    "name": "ipython",
    "version": 2
   },
   "file_extension": ".py",
   "mimetype": "text/x-python",
   "name": "python",
   "nbconvert_exporter": "python",
   "pygments_lexer": "ipython2",
   "version": "2.7.6"
  },
  "colab": {
   "provenance": [],
   "gpuType": "V28"
  },
  "accelerator": "TPU"
 },
 "nbformat": 4,
 "nbformat_minor": 5
}
